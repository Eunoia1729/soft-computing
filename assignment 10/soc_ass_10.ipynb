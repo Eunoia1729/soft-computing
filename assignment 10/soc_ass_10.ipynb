{
  "nbformat": 4,
  "nbformat_minor": 0,
  "metadata": {
    "colab": {
      "name": "soc_ass_10.ipynb",
      "provenance": []
    },
    "kernelspec": {
      "display_name": "Python 3",
      "name": "python3"
    },
    "language_info": {
      "name": "python"
    }
  },
  "cells": [
    {
      "cell_type": "markdown",
      "metadata": {
        "id": "WN5MQZYYmfmQ"
      },
      "source": [
        "## Imports"
      ]
    },
    {
      "cell_type": "code",
      "metadata": {
        "id": "Yv_kG30PiSPL"
      },
      "source": [
        "import numpy as np\n",
        "import matplotlib.pyplot as plt\n",
        "import random"
      ],
      "execution_count": null,
      "outputs": []
    },
    {
      "cell_type": "markdown",
      "metadata": {
        "id": "VGRr-aFPmhks"
      },
      "source": [
        "## Data Processing"
      ]
    },
    {
      "cell_type": "code",
      "metadata": {
        "colab": {
          "base_uri": "https://localhost:8080/"
        },
        "id": "QwGaJLgKGr-G",
        "outputId": "e8c77dd7-7883-4eb7-8a3e-9b46d6d1cf66"
      },
      "source": [
        "data = np.genfromtxt('heartdata.csv', delimiter=',')\n",
        "X_data = data[:, [0, 3]]\n",
        "Y_data = data[:, 13]\n",
        "for i in range(len(Y_data)):\n",
        "  if Y_data[i] == 0:\n",
        "    Y_data[i] = -1\n",
        "print(X_data.shape)\n",
        "print(Y_data.shape)"
      ],
      "execution_count": null,
      "outputs": [
        {
          "output_type": "stream",
          "text": [
            "(303, 2)\n",
            "(303,)\n"
          ],
          "name": "stdout"
        }
      ]
    },
    {
      "cell_type": "markdown",
      "metadata": {
        "id": "rjZy6kn3mnaU"
      },
      "source": [
        "## Feature Rescaling "
      ]
    },
    {
      "cell_type": "code",
      "metadata": {
        "colab": {
          "base_uri": "https://localhost:8080/"
        },
        "id": "26ncLFDvIwNI",
        "outputId": "2f67d431-3270-42f5-e1fe-61bfa46e786f"
      },
      "source": [
        "col1 = 2.*(X_data[:,0] - np.min(X_data[:,0]))/np.ptp(X_data[:,0])-1\n",
        "col2 = 2.*(X_data[:,1] - np.min(X_data[:,1]))/np.ptp(X_data[:,1])-1\n",
        "col1 = col1.reshape(-1,1)\n",
        "col2 = col2.reshape(-1,1)\n",
        "X_data_scaled = np.concatenate((col1, col2), axis=1)\n",
        "print(X_data_scaled)"
      ],
      "execution_count": null,
      "outputs": [
        {
          "output_type": "stream",
          "text": [
            "[[ 0.41666667 -0.03773585]\n",
            " [ 0.58333333  0.24528302]\n",
            " [ 0.58333333 -0.50943396]\n",
            " [-0.66666667 -0.32075472]\n",
            " [-0.5        -0.32075472]\n",
            " [ 0.125      -0.50943396]\n",
            " [ 0.375      -0.13207547]\n",
            " [ 0.16666667 -0.50943396]\n",
            " [ 0.41666667 -0.32075472]\n",
            " [ 0.         -0.13207547]\n",
            " [ 0.16666667 -0.13207547]\n",
            " [ 0.125      -0.13207547]\n",
            " [ 0.125      -0.32075472]\n",
            " [-0.375      -0.50943396]\n",
            " [-0.04166667  0.47169811]\n",
            " [ 0.16666667  0.05660377]\n",
            " [-0.20833333 -0.69811321]\n",
            " [ 0.04166667 -0.13207547]\n",
            " [-0.20833333 -0.32075472]\n",
            " [-0.16666667 -0.32075472]\n",
            " [ 0.45833333 -0.69811321]\n",
            " [ 0.20833333  0.05660377]\n",
            " [ 0.20833333 -0.50943396]\n",
            " [ 0.20833333 -0.28301887]\n",
            " [ 0.29166667 -0.32075472]\n",
            " [-0.125      -0.50943396]\n",
            " [ 0.20833333 -0.50943396]\n",
            " [ 0.54166667  0.05660377]\n",
            " [-0.41666667  0.05660377]\n",
            " [-0.54166667 -0.69811321]\n",
            " [ 0.66666667 -0.13207547]\n",
            " [ 0.29166667 -0.56603774]\n",
            " [ 0.45833333 -0.13207547]\n",
            " [ 0.25       -0.22641509]\n",
            " [-0.375      -0.32075472]\n",
            " [-0.45833333 -0.13207547]\n",
            " [-0.41666667 -0.50943396]\n",
            " [ 0.16666667  0.05660377]\n",
            " [ 0.08333333 -0.28301887]\n",
            " [ 0.33333333  0.05660377]\n",
            " [ 0.5         0.05660377]\n",
            " [-0.54166667 -0.13207547]\n",
            " [ 0.75        0.24528302]\n",
            " [ 0.25        0.05660377]\n",
            " [ 0.33333333 -0.32075472]\n",
            " [ 0.20833333 -0.66037736]\n",
            " [-0.08333333 -0.69811321]\n",
            " [-0.125       0.05660377]\n",
            " [ 0.5        -0.13207547]\n",
            " [ 0.         -0.32075472]\n",
            " [-0.5        -0.79245283]\n",
            " [ 0.5        -0.50943396]\n",
            " [-0.375      -0.66037736]\n",
            " [-0.375      -0.32075472]\n",
            " [ 0.29166667 -0.32075472]\n",
            " [ 0.04166667 -0.43396226]\n",
            " [-0.125      -0.13207547]\n",
            " [-0.5        -0.69811321]\n",
            " [ 0.04166667 -0.41509434]\n",
            " [-0.08333333 -0.41509434]\n",
            " [-0.08333333 -0.32075472]\n",
            " [-0.29166667 -0.09433962]\n",
            " [ 0.20833333 -0.35849057]\n",
            " [ 0.04166667 -0.22641509]\n",
            " [ 0.04166667 -0.50943396]\n",
            " [ 0.29166667 -0.03773585]\n",
            " [ 0.29166667 -0.13207547]\n",
            " [ 0.04166667  0.05660377]\n",
            " [ 0.25        0.43396226]\n",
            " [-0.29166667  0.05660377]\n",
            " [ 0.5         0.1509434 ]\n",
            " [ 0.58333333 -0.41509434]\n",
            " [ 0.375      -0.50943396]\n",
            " [ 0.5        -0.69811321]\n",
            " [-0.375      -0.69811321]\n",
            " [ 0.5         0.24528302]\n",
            " [ 0.29166667 -0.41509434]\n",
            " [-0.08333333 -0.13207547]\n",
            " [-0.20833333 -0.32075472]\n",
            " [ 0.20833333  0.05660377]\n",
            " [-0.33333333 -0.81132075]\n",
            " [ 0.         -0.32075472]\n",
            " [-0.58333333 -0.13207547]\n",
            " [ 0.625       0.62264151]\n",
            " [-0.04166667 -0.50943396]\n",
            " [-0.375      -0.13207547]\n",
            " [-0.25       -0.16981132]\n",
            " [ 0.         -0.35849057]\n",
            " [ 0.         -0.16981132]\n",
            " [-0.08333333 -0.32075472]\n",
            " [ 0.54166667 -0.50943396]\n",
            " [ 0.375       0.24528302]\n",
            " [ 0.375      -0.32075472]\n",
            " [-0.375      -0.73584906]\n",
            " [ 0.41666667 -0.22641509]\n",
            " [-0.04166667 -0.35849057]\n",
            " [ 0.25       -0.69811321]\n",
            " [ 0.29166667  0.05660377]\n",
            " [-0.04166667 -0.24528302]\n",
            " [-0.20833333 -0.47169811]\n",
            " [-0.33333333 -0.60377358]\n",
            " [-0.79166667 -0.54716981]\n",
            " [ 0.16666667 -0.35849057]\n",
            " [ 0.75       -0.69811321]\n",
            " [-0.16666667 -0.50943396]\n",
            " [ 0.04166667 -0.73584906]\n",
            " [ 0.25       -0.13207547]\n",
            " [ 0.16666667 -0.35849057]\n",
            " [ 0.33333333 -0.50943396]\n",
            " [-0.58333333 -0.54716981]\n",
            " [ 0.33333333 -0.03773585]\n",
            " [ 0.125      -0.41509434]\n",
            " [-0.04166667 -0.54716981]\n",
            " [-0.41666667 -0.28301887]\n",
            " [ 0.375      -0.32075472]\n",
            " [-0.5        -0.22641509]\n",
            " [ 0.20833333 -0.13207547]\n",
            " [-0.75       -0.16981132]\n",
            " [ 0.41666667 -0.32075472]\n",
            " [ 0.5        -0.22641509]\n",
            " [-0.20833333 -0.32075472]\n",
            " [ 0.41666667  0.05660377]\n",
            " [-0.08333333 -0.88679245]\n",
            " [ 0.08333333 -0.13207547]\n",
            " [ 0.5        -0.16981132]\n",
            " [-0.33333333 -0.32075472]\n",
            " [ 0.125       1.        ]\n",
            " [ 0.04166667 -0.69811321]\n",
            " [-0.375      -0.50943396]\n",
            " [ 0.375      -0.43396226]\n",
            " [ 0.04166667 -0.50943396]\n",
            " [-0.08333333 -1.        ]\n",
            " [-1.         -0.32075472]\n",
            " [-0.08333333 -0.13207547]\n",
            " [-0.41666667 -0.47169811]\n",
            " [ 0.08333333 -0.22641509]\n",
            " [ 0.70833333 -0.03773585]\n",
            " [ 0.375      -0.50943396]\n",
            " [-0.75       -0.50943396]\n",
            " [-0.08333333 -0.41509434]\n",
            " [ 0.25       -0.13207547]\n",
            " [ 0.25        0.43396226]\n",
            " [-0.04166667 -0.35849057]\n",
            " [ 0.45833333 -0.41509434]\n",
            " [ 0.20833333 -0.79245283]\n",
            " [-0.25       -0.73584906]\n",
            " [ 0.16666667  0.33962264]\n",
            " [-0.5        -0.66037736]\n",
            " [-0.33333333 -0.35849057]\n",
            " [ 0.29166667 -0.8490566 ]\n",
            " [-0.04166667  0.09433962]\n",
            " [-0.45833333 -0.8490566 ]\n",
            " [ 0.58333333 -0.60377358]\n",
            " [ 0.08333333  0.24528302]\n",
            " [ 0.45833333 -0.50943396]\n",
            " [ 0.70833333 -0.32075472]\n",
            " [-0.08333333 -0.13207547]\n",
            " [ 0.20833333 -0.41509434]\n",
            " [ 0.29166667 -0.13207547]\n",
            " [ 0.625      -0.54716981]\n",
            " [-0.29166667 -0.86792453]\n",
            " [ 1.         -0.41509434]\n",
            " [ 0.04166667 -0.69811321]\n",
            " [ 0.20833333 -0.88679245]\n",
            " [-0.20833333 -0.43396226]\n",
            " [ 0.16666667 -0.28301887]\n",
            " [-0.04166667 -0.16981132]\n",
            " [ 0.04166667 -0.28301887]\n",
            " [-0.75       -0.39622642]\n",
            " [-0.33333333 -0.66037736]\n",
            " [ 0.70833333  0.24528302]\n",
            " [ 0.         -0.09433962]\n",
            " [ 0.25        0.50943396]\n",
            " [ 0.375      -0.13207547]\n",
            " [ 0.45833333 -0.03773585]\n",
            " [ 0.16666667  0.09433962]\n",
            " [-0.04166667 -0.73584906]\n",
            " [ 0.125      -0.28301887]\n",
            " [-0.41666667 -0.32075472]\n",
            " [ 0.         -0.32075472]\n",
            " [-0.20833333 -0.43396226]\n",
            " [ 0.125      -0.24528302]\n",
            " [-0.45833333  0.01886792]\n",
            " [ 0.25        0.58490566]\n",
            " [ 0.29166667  0.20754717]\n",
            " [ 0.41666667 -0.13207547]\n",
            " [-0.45833333 -0.50943396]\n",
            " [ 0.54166667  0.24528302]\n",
            " [ 0.04166667  0.8490566 ]\n",
            " [ 0.66666667 -0.13207547]\n",
            " [-0.125      -0.33962264]\n",
            " [-0.08333333 -0.13207547]\n",
            " [-0.41666667 -0.28301887]\n",
            " [ 0.375      -0.16981132]\n",
            " [ 0.625      -0.50943396]\n",
            " [ 0.58333333 -0.88679245]\n",
            " [ 0.66666667  0.24528302]\n",
            " [-0.33333333 -0.16981132]\n",
            " [-0.125      -0.50943396]\n",
            " [ 0.25        0.24528302]\n",
            " [-0.125      -0.69811321]\n",
            " [ 0.45833333  0.62264151]\n",
            " [ 0.16666667  0.05660377]\n",
            " [ 0.45833333 -0.13207547]\n",
            " [-0.41666667 -0.69811321]\n",
            " [-0.33333333 -0.09433962]\n",
            " [ 0.20833333 -0.35849057]\n",
            " [-0.125      -0.05660377]\n",
            " [ 0.08333333 -0.32075472]\n",
            " [ 0.375       0.05660377]\n",
            " [-0.66666667 -0.50943396]\n",
            " [-0.625      -0.50943396]\n",
            " [-0.5        -0.32075472]\n",
            " [ 0.54166667  0.58490566]\n",
            " [-0.04166667 -0.66037736]\n",
            " [ 0.125      -0.50943396]\n",
            " [-0.29166667 -0.79245283]\n",
            " [-0.29166667 -0.16981132]\n",
            " [ 0.45833333 -0.32075472]\n",
            " [ 0.25       -0.16981132]\n",
            " [-0.5        -0.66037736]\n",
            " [ 0.04166667 -0.73584906]\n",
            " [-0.58333333 -1.        ]\n",
            " [ 0.         -0.45283019]\n",
            " [ 0.41666667 -0.73584906]\n",
            " [-0.79166667 -0.54716981]\n",
            " [-0.25       -0.66037736]\n",
            " [ 0.58333333  0.09433962]\n",
            " [ 0.04166667 -0.69811321]\n",
            " [ 0.54166667 -0.66037736]\n",
            " [-0.04166667 -0.20754717]\n",
            " [ 0.08333333  0.62264151]\n",
            " [-0.16666667 -0.54716981]\n",
            " [ 0.875      -0.50943396]\n",
            " [ 0.04166667  0.24528302]\n",
            " [ 0.04166667 -0.47169811]\n",
            " [ 0.125      -0.32075472]\n",
            " [-0.29166667 -0.50943396]\n",
            " [-0.16666667 -0.24528302]\n",
            " [-0.45833333 -0.50943396]\n",
            " [-0.5        -0.69811321]\n",
            " [-0.5        -0.39622642]\n",
            " [-0.16666667 -0.32075472]\n",
            " [ 0.33333333 -0.24528302]\n",
            " [ 0.29166667 -0.50943396]\n",
            " [ 0.58333333 -0.50943396]\n",
            " [ 0.20833333 -0.88679245]\n",
            " [-0.25       -0.69811321]\n",
            " [-0.04166667 -0.41509434]\n",
            " [ 0.375      -0.35849057]\n",
            " [ 0.16666667 -0.69811321]\n",
            " [ 0.20833333 -0.01886792]\n",
            " [ 0.45833333 -0.35849057]\n",
            " [-0.08333333 -0.50943396]\n",
            " [-0.41666667 -0.60377358]\n",
            " [-0.45833333 -0.50943396]\n",
            " [ 0.58333333 -0.77358491]\n",
            " [ 0.95833333 -0.13207547]\n",
            " [ 0.70833333  0.16981132]\n",
            " [ 0.16666667 -0.43396226]\n",
            " [-0.375      -0.54716981]\n",
            " [ 0.20833333 -0.20754717]\n",
            " [ 0.29166667  0.05660377]\n",
            " [-0.375      -0.50943396]\n",
            " [ 0.33333333 -0.16981132]\n",
            " [-0.45833333 -0.20754717]\n",
            " [-0.04166667 -0.35849057]\n",
            " [ 0.25       -0.39622642]\n",
            " [-0.54166667  0.09433962]\n",
            " [-0.45833333 -0.32075472]\n",
            " [ 0.33333333 -0.13207547]\n",
            " [ 0.54166667  0.24528302]\n",
            " [-0.29166667 -0.13207547]\n",
            " [ 0.75       -0.66037736]\n",
            " [ 0.25       -0.24528302]\n",
            " [ 0.45833333  0.43396226]\n",
            " [ 0.54166667 -0.01886792]\n",
            " [-0.58333333 -0.16981132]\n",
            " [ 0.16666667  0.13207547]\n",
            " [ 0.20833333 -0.32075472]\n",
            " [ 0.16666667 -0.69811321]\n",
            " [-0.25       -0.32075472]\n",
            " [ 0.08333333 -0.35849057]\n",
            " [-0.75       -0.47169811]\n",
            " [ 0.33333333  0.01886792]\n",
            " [ 0.20833333 -0.62264151]\n",
            " [ 0.20833333  0.43396226]\n",
            " [ 0.20833333 -0.41509434]\n",
            " [ 0.125      -0.32075472]\n",
            " [ 0.125      -0.50943396]\n",
            " [ 0.58333333  0.09433962]\n",
            " [ 0.08333333 -0.28301887]\n",
            " [-0.375      -0.50943396]\n",
            " [ 0.41666667 -0.13207547]\n",
            " [ 0.41666667 -0.43396226]\n",
            " [-0.5        -0.50943396]\n",
            " [ 0.25        0.32075472]\n",
            " [ 0.16666667 -0.13207547]\n",
            " [-0.33333333 -0.69811321]\n",
            " [ 0.625      -0.05660377]\n",
            " [ 0.16666667 -0.32075472]\n",
            " [ 0.16666667 -0.32075472]\n",
            " [-0.625      -0.16981132]]\n"
          ],
          "name": "stdout"
        }
      ]
    },
    {
      "cell_type": "code",
      "metadata": {
        "colab": {
          "base_uri": "https://localhost:8080/"
        },
        "id": "XUxnHjC2LAsC",
        "outputId": "6113c77e-14f5-4cfc-cf40-8a3b543257b7"
      },
      "source": [
        "Y_data_scaled = Y_data\n",
        "print(Y_data_scaled.shape)\n",
        "print(Y_data_scaled)"
      ],
      "execution_count": null,
      "outputs": [
        {
          "output_type": "stream",
          "text": [
            "(303,)\n",
            "[-1.  1.  1. -1. -1. -1.  1. -1.  1.  1. -1. -1.  1. -1. -1. -1.  1. -1.\n",
            " -1. -1. -1. -1.  1.  1.  1. -1. -1. -1. -1.  1. -1.  1.  1. -1. -1. -1.\n",
            "  1.  1.  1. -1.  1. -1. -1. -1.  1.  1. -1.  1. -1. -1. -1. -1.  1. -1.\n",
            "  1.  1.  1.  1. -1. -1.  1. -1.  1. -1.  1.  1.  1. -1.  1.  1. -1.  1.\n",
            "  1.  1.  1. -1.  1. -1. -1.  1. -1. -1. -1.  1. -1. -1. -1. -1. -1. -1.\n",
            " -1.  1. -1. -1. -1.  1.  1.  1. -1. -1. -1. -1. -1. -1.  1. -1.  1.  1.\n",
            "  1.  1.  1.  1. -1.  1.  1. -1. -1. -1.  1.  1.  1.  1. -1.  1.  1. -1.\n",
            "  1.  1. -1. -1. -1. -1. -1. -1. -1. -1.  1.  1.  1. -1. -1.  1. -1.  1.\n",
            " -1.  1.  1. -1. -1. -1. -1. -1. -1.  1.  1.  1.  1.  1.  1. -1. -1.  1.\n",
            " -1. -1. -1. -1. -1. -1.  1. -1.  1. -1.  1. -1.  1.  1. -1.  1. -1. -1.\n",
            "  1.  1. -1. -1.  1. -1. -1.  1.  1.  1. -1.  1.  1.  1. -1.  1. -1. -1.\n",
            " -1.  1. -1. -1. -1. -1. -1.  1.  1.  1. -1.  1. -1.  1. -1.  1.  1. -1.\n",
            " -1. -1. -1. -1. -1. -1. -1.  1.  1. -1. -1. -1.  1.  1. -1.  1.  1. -1.\n",
            " -1.  1.  1.  1. -1. -1. -1. -1. -1.  1. -1.  1.  1.  1.  1. -1. -1.  1.\n",
            " -1. -1. -1. -1. -1. -1. -1.  1. -1.  1. -1. -1.  1.  1.  1.  1.  1. -1.\n",
            "  1. -1.  1. -1.  1. -1. -1. -1.  1. -1.  1. -1.  1. -1.  1.  1.  1. -1.\n",
            " -1. -1.  1. -1.  1.  1.  1. -1.  1.  1.  1.  1.  1.  1. -1.]\n"
          ],
          "name": "stdout"
        }
      ]
    },
    {
      "cell_type": "markdown",
      "metadata": {
        "id": "s_VBqzt2mtA1"
      },
      "source": [
        "## Train-Test Split"
      ]
    },
    {
      "cell_type": "code",
      "metadata": {
        "colab": {
          "base_uri": "https://localhost:8080/"
        },
        "id": "1hYIQtcWGmLB",
        "outputId": "dd5f7a8c-83ce-4b48-8414-1abcc374e59d"
      },
      "source": [
        "train_ratio = 0.7\n",
        "train_len = int(train_ratio * len(X_data_scaled))\n",
        "X_train, Y_train = X_data_scaled[:train_len,:], Y_data_scaled[:train_len]\n",
        "X_test, Y_test = X_data_scaled[train_len:,:], Y_data_scaled[train_len:]\n",
        "print(X_train.shape, Y_train.shape)\n",
        "print(X_test.shape, Y_test.shape)"
      ],
      "execution_count": null,
      "outputs": [
        {
          "output_type": "stream",
          "text": [
            "(212, 2) (212,)\n",
            "(91, 2) (91,)\n"
          ],
          "name": "stdout"
        }
      ]
    },
    {
      "cell_type": "markdown",
      "metadata": {
        "id": "5JhJ0-DDmwEE"
      },
      "source": [
        "## Helper Methods for SVM with SMO implementation"
      ]
    },
    {
      "cell_type": "code",
      "metadata": {
        "id": "1L7YlomrgNTx"
      },
      "source": [
        "# Helper Methods\n",
        "\n",
        "def rbf_kernel(x1, x2, sigma = 1):\n",
        "  return np.exp(-np.linalg.norm(x1 - x2) ** 2 / (2 * (sigma ** 2)))\n",
        "\n",
        "def GetTprAndFpr(predicted, actual):\n",
        "    cm = np.zeros((2,2))\n",
        "    for i in range(len(predicted)):\n",
        "        if(actual[i] == -1):\n",
        "            if predicted[i] == -1:\n",
        "                cm[0][0] += 1\n",
        "            else:\n",
        "                cm[0][1] += 1\n",
        "        else:\n",
        "            if predicted[i] == -1:\n",
        "                cm[1][0] += 1\n",
        "            else:\n",
        "                cm[1][1] += 1\n",
        "    tpr = cm[1][1] / (cm[1][1] + cm[1][0])\n",
        "    fpr = cm[0][1] / (cm[0][1] + cm[0][0])\n",
        "    return tpr, fpr\n"
      ],
      "execution_count": null,
      "outputs": []
    },
    {
      "cell_type": "markdown",
      "metadata": {
        "id": "q0TTFN-2mzpb"
      },
      "source": [
        "## SVM with SMO implementation"
      ]
    },
    {
      "cell_type": "code",
      "metadata": {
        "id": "RySydyN8icRF"
      },
      "source": [
        "class SvmSmo(object):\n",
        "  \n",
        "  def __init__(self, X_train, Y_train, C = 1, epsilon = 0.001, n_passes = 4):\n",
        "    self.X_train = X_train\n",
        "    self.Y_train = Y_train\n",
        "    self.C = C\n",
        "    self.epsilon = epsilon\n",
        "    self.n_passes = n_passes\n",
        "\n",
        "    self.diff = np.inf\n",
        "    n_samples, n_features = self.X_train.shape\n",
        "    self.n_samples = n_samples\n",
        "    self.n_features = n_features\n",
        "    \n",
        "    self.alpha = np.zeros(self.n_samples)\n",
        "    self.kernel = rbf_kernel\n",
        "    self.W = 0\n",
        "    self.B = 0\n",
        "    \n",
        "    self.fit()\n",
        "  \n",
        "  def fit(self):\n",
        "    passes = 0\n",
        "    samples, features = self.X_train.shape\n",
        "    max_passes = 4\n",
        "    tol = self.epsilon\n",
        "    passes = 0\n",
        "    while passes < self.n_passes:\n",
        "        alpha_old = np.copy(self.alpha)\n",
        "        changes = 0\n",
        "        for i in range(samples):\n",
        "            self.W = self.X_train.T@(alpha_old*self.Y_train)\n",
        "            error_i = np.sign(self.W.T@self.X_train[i] + self.B) - self.Y_train[i]\n",
        "            if not (((self.Y_train[i]*error_i < -tol) and (self.alpha[i] < self.C)) or ((self.Y_train[i]*error_i > tol))):\n",
        "                continue\n",
        "            j = i\n",
        "            while j == i:\n",
        "                j = random.randint(0, self.n_samples - 1)\n",
        "            \n",
        "            eta = 2 * self.kernel(self.X_train[i], self.X_train[j])\n",
        "            eta -= self.kernel(self.X_train[i], self.X_train[i]) \n",
        "            eta -= self.kernel(self.X_train[j], self.X_train[j])\n",
        "            if eta == 0:\n",
        "                continue\n",
        "            \n",
        "            if self.Y_train[i] != self.Y_train[j] :\n",
        "                l = max(0, self.alpha[j] - self.alpha[i])\n",
        "                h = min(self.C, self.C - self.alpha[i] + self.alpha[j])\n",
        "            else:\n",
        "                l = max(0, self.alpha[i] + self.alpha[j] - self.C)\n",
        "                h = min(self.C, self.alpha[i] + self.alpha[j])\n",
        "            if l == h:\n",
        "                continue\n",
        "            error_j = np.sign(self.W.T@self.X_train[j] + self.B) - self.Y_train[j]\n",
        "            self.alpha[j] = alpha_old[j] - self.Y_train[j] * (error_i - error_j)/ eta\n",
        "            if self.alpha[j] > h:\n",
        "                self.alpha[j] = h\n",
        "            if self.alpha[j] < l:\n",
        "                self.alpha[j] = l\n",
        "            if abs(self.alpha[j] - alpha_old[j]) < 0.00001:\n",
        "                self.alpha[j] = alpha_old[j]\n",
        "                continue\n",
        "            self.alpha[i] = alpha_old[i] + self.Y_train[i]*self.Y_train[j] * (alpha_old[j] - self.alpha[j]) \n",
        "            b1 = self.B - error_i - self.Y_train[i]*(self.alpha[i] - alpha_old[i]) * self.kernel(self.X_train[i], self.X_train[i])\n",
        "            b1 -= self.Y_train[j]*(self.alpha[j] - alpha_old[j]) * self.kernel(self.X_train[i], self.X_train[j])\n",
        "            \n",
        "            b2 = self.B - error_j - self.Y_train[i]*(self.alpha[i] - alpha_old[i]) * self.kernel(self.X_train[i], self.X_train[j])\n",
        "            b2 -= self.Y_train[j]*(self.alpha[j] - alpha_old[j]) * self.kernel(self.X_train[j], self.X_train[j])\n",
        "            \n",
        "            if self.alpha[i] > 0 and self.alpha[i] < self.C:\n",
        "                self.B = b1\n",
        "            elif self.alpha[j] > 0 and self.alpha[j] < self.C:\n",
        "                self.B = b2\n",
        "            else:\n",
        "                self.B = (b1 + b2) / 2\n",
        "            \n",
        "            changes += 1\n",
        "        if changes == 0:\n",
        "          passes += 1\n",
        "        else:\n",
        "          passes = 0\n",
        " \n",
        "        diff = np.linalg.norm(self.alpha - alpha_old)\n",
        "\n",
        "    self.W = self.X_train.T@(self.alpha * self.Y_train)\n",
        "    self.B = np.mean(self.Y_train - self.W.T@self.X_train.T)\n",
        "    return self.W, self.B\n",
        "\n",
        "  def predict(self, X_test, threshold = 0):\n",
        "    if threshold == 0:\n",
        "      return np.sign(self.W.T@X_test.T + self.B)\n",
        "    result = self.W.T@X_test.T + self.B\n",
        "    Y_predicted = []\n",
        "    for val in result:\n",
        "        if val >= threshold:\n",
        "            Y_predicted.append(1)\n",
        "        else:\n",
        "            Y_predicted.append(-1)\n",
        "    return np.array(Y_predicted)\n",
        "\n",
        "  def getAccuracy(self, X_test, Y_test):\n",
        "    predict = self.predict(X_test)\n",
        "    actual = Y_test\n",
        "    correct = 0\n",
        "    for i in range(len(actual)):\n",
        "        if actual[i] == predict[i]:\n",
        "            correct += 1\n",
        "    return correct / len(actual) * 100\n",
        "  \n",
        "  def displayRocCurve(self):\n",
        "    threshold_list = np.arange(-500, 500, 2)\n",
        "    X_plot = []\n",
        "    Y_plot = []\n",
        "    for threshold in threshold_list:\n",
        "        tpr, fpr = GetTprAndFpr(self.predict(X_test, threshold),Y_test)\n",
        "        X_plot.append(fpr)\n",
        "        Y_plot.append(tpr)\n",
        "\n",
        "    plt.figure(figsize=(8,8))\n",
        "    plt.title('ROC curve')\n",
        "    plt.xlabel('False Positive Rate')\n",
        "    plt.ylabel('True Positive Rate')\n",
        "    plt.plot(X_plot,Y_plot)"
      ],
      "execution_count": 19,
      "outputs": []
    },
    {
      "cell_type": "code",
      "metadata": {
        "colab": {
          "base_uri": "https://localhost:8080/"
        },
        "id": "phU6LQZnm-wC",
        "outputId": "2739f8e4-8c6f-43c3-d1ea-ba00fa8637b2"
      },
      "source": [
        "svm_with_smo_model = SvmSmo(X_train, Y_train, 100, 0.1)\n",
        "accuracy = svm_with_smo_model.getAccuracy(X_train, Y_train)\n",
        "print( f' Accuracy : { round(accuracy, 2)}%')"
      ],
      "execution_count": 34,
      "outputs": [
        {
          "output_type": "stream",
          "text": [
            " Accuracy : 65.57%\n"
          ],
          "name": "stdout"
        }
      ]
    },
    {
      "cell_type": "code",
      "metadata": {
        "colab": {
          "base_uri": "https://localhost:8080/"
        },
        "id": "KpnMwgsfigMN",
        "outputId": "aceaa84f-d9e0-49bb-88d6-59d52d25740f"
      },
      "source": [
        "svm_with_smo_model = SvmSmo(X_train, Y_train, 100, 0.1)\n",
        "accuracy = svm_with_smo_model.getAccuracy(X_test, Y_test)\n",
        "print( f' Accuracy : { round(accuracy, 2)}%')"
      ],
      "execution_count": 33,
      "outputs": [
        {
          "output_type": "stream",
          "text": [
            " Accuracy : 58.24%\n"
          ],
          "name": "stdout"
        }
      ]
    },
    {
      "cell_type": "markdown",
      "metadata": {
        "id": "q-Pc_Rwum7j4"
      },
      "source": [
        "## Analysis"
      ]
    },
    {
      "cell_type": "code",
      "metadata": {
        "id": "jMCa6q6Vh6aI",
        "colab": {
          "base_uri": "https://localhost:8080/",
          "height": 295
        },
        "outputId": "762227e4-2d26-49f8-9aba-4dc35292727d"
      },
      "source": [
        "C_list = [1e-4, 1e-3, 1e-2, 1e-1, 0, 1,10,100]\n",
        "acc_list = []\n",
        "for C in C_list:\n",
        "  svm_with_smo_model = SvmSmo(X_train, Y_train, C, 0.001)\n",
        "  accuracy = svm_with_smo_model.getAccuracy(X_test, Y_test)\n",
        "  acc_list.append(accuracy)\n",
        "\n",
        "plt.plot(C_list, acc_list)\n",
        "plt.title('C vs Accuracy Plot')\n",
        "plt.xlabel('C')\n",
        "plt.ylabel('Accuracy')\n",
        "plt.show()"
      ],
      "execution_count": 35,
      "outputs": [
        {
          "output_type": "display_data",
          "data": {
            "image/png": "[encoded data removed]",
            "text/plain": [
              "<Figure size 432x288 with 1 Axes>"
            ]
          },
          "metadata": {
            "tags": [],
            "needs_background": "light"
          }
        }
      ]
    },
    {
      "cell_type": "code",
      "metadata": {
        "colab": {
          "base_uri": "https://localhost:8080/",
          "height": 295
        },
        "id": "Iku0lTGGivZT",
        "outputId": "52b81b28-afb4-4f1c-8304-f0e5041ff6e6"
      },
      "source": [
        "epsilon_list = [1e-2, 1e-1, 0, 1, 10, 100]\n",
        "acc_list = []\n",
        "for epsilon in epsilon_list:\n",
        "  svm_with_smo_model = SvmSmo(X_train, Y_train, 1, epsilon)\n",
        "  accuracy = svm_with_smo_model.getAccuracy(X_test, Y_test)\n",
        "  acc_list.append(accuracy)\n",
        "\n",
        "plt.plot(epsilon_list, acc_list)\n",
        "plt.title('epsilon vs Accuracy Plot')\n",
        "plt.xlabel('epsilon')\n",
        "plt.ylabel('Accuracy')\n",
        "plt.show()"
      ],
      "execution_count": 36,
      "outputs": [
        {
          "output_type": "display_data",
          "data": {
            "image/png": "[encoded data removed]",
            "text/plain": [
              "<Figure size 432x288 with 1 Axes>"
            ]
          },
          "metadata": {
            "tags": [],
            "needs_background": "light"
          }
        }
      ]
    },
    {
      "cell_type": "code",
      "metadata": {
        "colab": {
          "base_uri": "https://localhost:8080/"
        },
        "id": "ioZZvmBGjZHo",
        "outputId": "9975a90f-ccf4-4d61-ca53-6226045395b2"
      },
      "source": [
        "epsilon_list = [1e-2, 1e-1, 0, 1, 10, 100]\n",
        "C_list = [1e-4, 1e-3, 1e-2, 1e-1, 0, 1,10,100]\n",
        "best_result = [0, None, None]\n",
        "for epsilon in epsilon_list:\n",
        "  for C in C_list:\n",
        "    svm_with_smo_model = SvmSmo(X_train, Y_train, 1, epsilon)\n",
        "    accuracy = svm_with_smo_model.getAccuracy(X_test, Y_test)\n",
        "    print(f'For C = {C} and epsilon = {epsilon} : Accuracy = {round(accuracy,2)}% ')\n",
        "    if best_result < [accuracy, C, epsilon]:\n",
        "      best_result = [accuracy, C, epsilon]\n",
        "\n",
        "print('Best Result:')\n",
        "print(best_result)"
      ],
      "execution_count": 31,
      "outputs": [
        {
          "output_type": "stream",
          "text": [
            "For C = 0.0001 and epsilon = 0.01 : Accuracy = 58.24% \n",
            "For C = 0.001 and epsilon = 0.01 : Accuracy = 58.24% \n",
            "For C = 0.01 and epsilon = 0.01 : Accuracy = 60.44% \n",
            "For C = 0.1 and epsilon = 0.01 : Accuracy = 59.34% \n",
            "For C = 0 and epsilon = 0.01 : Accuracy = 57.14% \n",
            "For C = 1 and epsilon = 0.01 : Accuracy = 59.34% \n",
            "For C = 10 and epsilon = 0.01 : Accuracy = 58.24% \n",
            "For C = 100 and epsilon = 0.01 : Accuracy = 60.44% \n",
            "For C = 0.0001 and epsilon = 0.1 : Accuracy = 58.24% \n",
            "For C = 0.001 and epsilon = 0.1 : Accuracy = 59.34% \n",
            "For C = 0.01 and epsilon = 0.1 : Accuracy = 59.34% \n",
            "For C = 0.1 and epsilon = 0.1 : Accuracy = 59.34% \n",
            "For C = 0 and epsilon = 0.1 : Accuracy = 59.34% \n",
            "For C = 1 and epsilon = 0.1 : Accuracy = 57.14% \n",
            "For C = 10 and epsilon = 0.1 : Accuracy = 59.34% \n",
            "For C = 100 and epsilon = 0.1 : Accuracy = 59.34% \n",
            "For C = 0.0001 and epsilon = 0 : Accuracy = 58.24% \n",
            "For C = 0.001 and epsilon = 0 : Accuracy = 60.44% \n",
            "For C = 0.01 and epsilon = 0 : Accuracy = 60.44% \n",
            "For C = 0.1 and epsilon = 0 : Accuracy = 57.14% \n",
            "For C = 0 and epsilon = 0 : Accuracy = 59.34% \n",
            "For C = 1 and epsilon = 0 : Accuracy = 59.34% \n",
            "For C = 10 and epsilon = 0 : Accuracy = 58.24% \n",
            "For C = 100 and epsilon = 0 : Accuracy = 59.34% \n",
            "For C = 0.0001 and epsilon = 1 : Accuracy = 52.75% \n",
            "For C = 0.001 and epsilon = 1 : Accuracy = 52.75% \n",
            "For C = 0.01 and epsilon = 1 : Accuracy = 52.75% \n",
            "For C = 0.1 and epsilon = 1 : Accuracy = 52.75% \n",
            "For C = 0 and epsilon = 1 : Accuracy = 52.75% \n",
            "For C = 1 and epsilon = 1 : Accuracy = 52.75% \n",
            "For C = 10 and epsilon = 1 : Accuracy = 52.75% \n",
            "For C = 100 and epsilon = 1 : Accuracy = 52.75% \n",
            "For C = 0.0001 and epsilon = 10 : Accuracy = 52.75% \n",
            "For C = 0.001 and epsilon = 10 : Accuracy = 52.75% \n",
            "For C = 0.01 and epsilon = 10 : Accuracy = 52.75% \n",
            "For C = 0.1 and epsilon = 10 : Accuracy = 52.75% \n",
            "For C = 0 and epsilon = 10 : Accuracy = 52.75% \n",
            "For C = 1 and epsilon = 10 : Accuracy = 52.75% \n",
            "For C = 10 and epsilon = 10 : Accuracy = 52.75% \n",
            "For C = 100 and epsilon = 10 : Accuracy = 52.75% \n",
            "For C = 0.0001 and epsilon = 100 : Accuracy = 52.75% \n",
            "For C = 0.001 and epsilon = 100 : Accuracy = 52.75% \n",
            "For C = 0.01 and epsilon = 100 : Accuracy = 52.75% \n",
            "For C = 0.1 and epsilon = 100 : Accuracy = 52.75% \n",
            "For C = 0 and epsilon = 100 : Accuracy = 52.75% \n",
            "For C = 1 and epsilon = 100 : Accuracy = 52.75% \n",
            "For C = 10 and epsilon = 100 : Accuracy = 52.75% \n",
            "For C = 100 and epsilon = 100 : Accuracy = 52.75% \n",
            "Best Result:\n",
            "[60.43956043956044, 100, 0.01]\n"
          ],
          "name": "stdout"
        }
      ]
    },
    {
      "cell_type": "code",
      "metadata": {
        "colab": {
          "base_uri": "https://localhost:8080/",
          "height": 513
        },
        "id": "C8cvfPw_im9K",
        "outputId": "63478330-55d4-4a5c-e0d1-3f4843fdf2d8"
      },
      "source": [
        "svm_with_smo_model.displayRocCurve()"
      ],
      "execution_count": null,
      "outputs": [
        {
          "output_type": "display_data",
          "data": {
            "image/png": "[encoded data removed]",
            "text/plain": [
              "<Figure size 576x576 with 1 Axes>"
            ]
          },
          "metadata": {
            "tags": [],
            "needs_background": "light"
          }
        }
      ]
    }
  ]
}