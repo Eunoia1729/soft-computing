{
  "nbformat": 4,
  "nbformat_minor": 0,
  "metadata": {
    "colab": {
      "name": "soc_ass_5.ipynb",
      "provenance": [],
      "toc_visible": true
    },
    "kernelspec": {
      "name": "python3",
      "display_name": "Python 3"
    }
  },
  "cells": [
    {
      "cell_type": "code",
      "metadata": {
        "id": "gMT5Lu6EPg24"
      },
      "source": [
        "import numpy as np # for all implementations\r\n",
        "import pandas as pd # only for data pre-processing\r\n",
        "import math"
      ],
      "execution_count": 19,
      "outputs": []
    },
    {
      "cell_type": "markdown",
      "metadata": {
        "id": "nrR0x_uF-9wa"
      },
      "source": [
        "## Data Preprocessing"
      ]
    },
    {
      "cell_type": "code",
      "metadata": {
        "colab": {
          "base_uri": "https://localhost:8080/",
          "height": 424
        },
        "id": "QNTGvZ3cY4dO",
        "outputId": "7f71eacc-6a9b-4ae5-ab87-5fa023b7a637"
      },
      "source": [
        "df = pd.read_csv('sms_spam_dataset.csv' , encoding='latin-1')\r\n",
        "df"
      ],
      "execution_count": 20,
      "outputs": [
        {
          "output_type": "execute_result",
          "data": {
            "text/html": [
              "<div>\n",
              "<style scoped>\n",
              "    .dataframe tbody tr th:only-of-type {\n",
              "        vertical-align: middle;\n",
              "    }\n",
              "\n",
              "    .dataframe tbody tr th {\n",
              "        vertical-align: top;\n",
              "    }\n",
              "\n",
              "    .dataframe thead th {\n",
              "        text-align: right;\n",
              "    }\n",
              "</style>\n",
              "<table border=\"1\" class=\"dataframe\">\n",
              "  <thead>\n",
              "    <tr style=\"text-align: right;\">\n",
              "      <th></th>\n",
              "      <th>v1</th>\n",
              "      <th>v2</th>\n",
              "      <th>Unnamed: 2</th>\n",
              "      <th>Unnamed: 3</th>\n",
              "      <th>Unnamed: 4</th>\n",
              "    </tr>\n",
              "  </thead>\n",
              "  <tbody>\n",
              "    <tr>\n",
              "      <th>0</th>\n",
              "      <td>ham</td>\n",
              "      <td>Go until jurong point, crazy.. Available only ...</td>\n",
              "      <td>NaN</td>\n",
              "      <td>NaN</td>\n",
              "      <td>NaN</td>\n",
              "    </tr>\n",
              "    <tr>\n",
              "      <th>1</th>\n",
              "      <td>ham</td>\n",
              "      <td>Ok lar... Joking wif u oni...</td>\n",
              "      <td>NaN</td>\n",
              "      <td>NaN</td>\n",
              "      <td>NaN</td>\n",
              "    </tr>\n",
              "    <tr>\n",
              "      <th>2</th>\n",
              "      <td>spam</td>\n",
              "      <td>Free entry in 2 a wkly comp to win FA Cup fina...</td>\n",
              "      <td>NaN</td>\n",
              "      <td>NaN</td>\n",
              "      <td>NaN</td>\n",
              "    </tr>\n",
              "    <tr>\n",
              "      <th>3</th>\n",
              "      <td>ham</td>\n",
              "      <td>U dun say so early hor... U c already then say...</td>\n",
              "      <td>NaN</td>\n",
              "      <td>NaN</td>\n",
              "      <td>NaN</td>\n",
              "    </tr>\n",
              "    <tr>\n",
              "      <th>4</th>\n",
              "      <td>ham</td>\n",
              "      <td>Nah I don't think he goes to usf, he lives aro...</td>\n",
              "      <td>NaN</td>\n",
              "      <td>NaN</td>\n",
              "      <td>NaN</td>\n",
              "    </tr>\n",
              "    <tr>\n",
              "      <th>...</th>\n",
              "      <td>...</td>\n",
              "      <td>...</td>\n",
              "      <td>...</td>\n",
              "      <td>...</td>\n",
              "      <td>...</td>\n",
              "    </tr>\n",
              "    <tr>\n",
              "      <th>5567</th>\n",
              "      <td>spam</td>\n",
              "      <td>This is the 2nd time we have tried 2 contact u...</td>\n",
              "      <td>NaN</td>\n",
              "      <td>NaN</td>\n",
              "      <td>NaN</td>\n",
              "    </tr>\n",
              "    <tr>\n",
              "      <th>5568</th>\n",
              "      <td>ham</td>\n",
              "      <td>Will Ì_ b going to esplanade fr home?</td>\n",
              "      <td>NaN</td>\n",
              "      <td>NaN</td>\n",
              "      <td>NaN</td>\n",
              "    </tr>\n",
              "    <tr>\n",
              "      <th>5569</th>\n",
              "      <td>ham</td>\n",
              "      <td>Pity, * was in mood for that. So...any other s...</td>\n",
              "      <td>NaN</td>\n",
              "      <td>NaN</td>\n",
              "      <td>NaN</td>\n",
              "    </tr>\n",
              "    <tr>\n",
              "      <th>5570</th>\n",
              "      <td>ham</td>\n",
              "      <td>The guy did some bitching but I acted like i'd...</td>\n",
              "      <td>NaN</td>\n",
              "      <td>NaN</td>\n",
              "      <td>NaN</td>\n",
              "    </tr>\n",
              "    <tr>\n",
              "      <th>5571</th>\n",
              "      <td>ham</td>\n",
              "      <td>Rofl. Its true to its name</td>\n",
              "      <td>NaN</td>\n",
              "      <td>NaN</td>\n",
              "      <td>NaN</td>\n",
              "    </tr>\n",
              "  </tbody>\n",
              "</table>\n",
              "<p>5572 rows × 5 columns</p>\n",
              "</div>"
            ],
            "text/plain": [
              "        v1  ... Unnamed: 4\n",
              "0      ham  ...        NaN\n",
              "1      ham  ...        NaN\n",
              "2     spam  ...        NaN\n",
              "3      ham  ...        NaN\n",
              "4      ham  ...        NaN\n",
              "...    ...  ...        ...\n",
              "5567  spam  ...        NaN\n",
              "5568   ham  ...        NaN\n",
              "5569   ham  ...        NaN\n",
              "5570   ham  ...        NaN\n",
              "5571   ham  ...        NaN\n",
              "\n",
              "[5572 rows x 5 columns]"
            ]
          },
          "metadata": {
            "tags": []
          },
          "execution_count": 20
        }
      ]
    },
    {
      "cell_type": "code",
      "metadata": {
        "colab": {
          "base_uri": "https://localhost:8080/",
          "height": 424
        },
        "id": "DwHjiEPL29no",
        "outputId": "444c91be-1fd9-4d8f-df99-f3be78f561ce"
      },
      "source": [
        "df2 = df[['v1', 'v2']]\n",
        "df2 = df2.rename(columns={\"v2\": \"text\", \"v1\": \"label\"})\n",
        "df2"
      ],
      "execution_count": 21,
      "outputs": [
        {
          "output_type": "execute_result",
          "data": {
            "text/html": [
              "<div>\n",
              "<style scoped>\n",
              "    .dataframe tbody tr th:only-of-type {\n",
              "        vertical-align: middle;\n",
              "    }\n",
              "\n",
              "    .dataframe tbody tr th {\n",
              "        vertical-align: top;\n",
              "    }\n",
              "\n",
              "    .dataframe thead th {\n",
              "        text-align: right;\n",
              "    }\n",
              "</style>\n",
              "<table border=\"1\" class=\"dataframe\">\n",
              "  <thead>\n",
              "    <tr style=\"text-align: right;\">\n",
              "      <th></th>\n",
              "      <th>label</th>\n",
              "      <th>text</th>\n",
              "    </tr>\n",
              "  </thead>\n",
              "  <tbody>\n",
              "    <tr>\n",
              "      <th>0</th>\n",
              "      <td>ham</td>\n",
              "      <td>Go until jurong point, crazy.. Available only ...</td>\n",
              "    </tr>\n",
              "    <tr>\n",
              "      <th>1</th>\n",
              "      <td>ham</td>\n",
              "      <td>Ok lar... Joking wif u oni...</td>\n",
              "    </tr>\n",
              "    <tr>\n",
              "      <th>2</th>\n",
              "      <td>spam</td>\n",
              "      <td>Free entry in 2 a wkly comp to win FA Cup fina...</td>\n",
              "    </tr>\n",
              "    <tr>\n",
              "      <th>3</th>\n",
              "      <td>ham</td>\n",
              "      <td>U dun say so early hor... U c already then say...</td>\n",
              "    </tr>\n",
              "    <tr>\n",
              "      <th>4</th>\n",
              "      <td>ham</td>\n",
              "      <td>Nah I don't think he goes to usf, he lives aro...</td>\n",
              "    </tr>\n",
              "    <tr>\n",
              "      <th>...</th>\n",
              "      <td>...</td>\n",
              "      <td>...</td>\n",
              "    </tr>\n",
              "    <tr>\n",
              "      <th>5567</th>\n",
              "      <td>spam</td>\n",
              "      <td>This is the 2nd time we have tried 2 contact u...</td>\n",
              "    </tr>\n",
              "    <tr>\n",
              "      <th>5568</th>\n",
              "      <td>ham</td>\n",
              "      <td>Will Ì_ b going to esplanade fr home?</td>\n",
              "    </tr>\n",
              "    <tr>\n",
              "      <th>5569</th>\n",
              "      <td>ham</td>\n",
              "      <td>Pity, * was in mood for that. So...any other s...</td>\n",
              "    </tr>\n",
              "    <tr>\n",
              "      <th>5570</th>\n",
              "      <td>ham</td>\n",
              "      <td>The guy did some bitching but I acted like i'd...</td>\n",
              "    </tr>\n",
              "    <tr>\n",
              "      <th>5571</th>\n",
              "      <td>ham</td>\n",
              "      <td>Rofl. Its true to its name</td>\n",
              "    </tr>\n",
              "  </tbody>\n",
              "</table>\n",
              "<p>5572 rows × 2 columns</p>\n",
              "</div>"
            ],
            "text/plain": [
              "     label                                               text\n",
              "0      ham  Go until jurong point, crazy.. Available only ...\n",
              "1      ham                      Ok lar... Joking wif u oni...\n",
              "2     spam  Free entry in 2 a wkly comp to win FA Cup fina...\n",
              "3      ham  U dun say so early hor... U c already then say...\n",
              "4      ham  Nah I don't think he goes to usf, he lives aro...\n",
              "...    ...                                                ...\n",
              "5567  spam  This is the 2nd time we have tried 2 contact u...\n",
              "5568   ham              Will Ì_ b going to esplanade fr home?\n",
              "5569   ham  Pity, * was in mood for that. So...any other s...\n",
              "5570   ham  The guy did some bitching but I acted like i'd...\n",
              "5571   ham                         Rofl. Its true to its name\n",
              "\n",
              "[5572 rows x 2 columns]"
            ]
          },
          "metadata": {
            "tags": []
          },
          "execution_count": 21
        }
      ]
    },
    {
      "cell_type": "code",
      "metadata": {
        "colab": {
          "base_uri": "https://localhost:8080/",
          "height": 424
        },
        "id": "BWqalud23ehm",
        "outputId": "2926662b-2da4-4a62-8db1-065d9712180e"
      },
      "source": [
        "df2['label'] = (df2['label'] == 'spam')\n",
        "df2"
      ],
      "execution_count": 22,
      "outputs": [
        {
          "output_type": "execute_result",
          "data": {
            "text/html": [
              "<div>\n",
              "<style scoped>\n",
              "    .dataframe tbody tr th:only-of-type {\n",
              "        vertical-align: middle;\n",
              "    }\n",
              "\n",
              "    .dataframe tbody tr th {\n",
              "        vertical-align: top;\n",
              "    }\n",
              "\n",
              "    .dataframe thead th {\n",
              "        text-align: right;\n",
              "    }\n",
              "</style>\n",
              "<table border=\"1\" class=\"dataframe\">\n",
              "  <thead>\n",
              "    <tr style=\"text-align: right;\">\n",
              "      <th></th>\n",
              "      <th>label</th>\n",
              "      <th>text</th>\n",
              "    </tr>\n",
              "  </thead>\n",
              "  <tbody>\n",
              "    <tr>\n",
              "      <th>0</th>\n",
              "      <td>False</td>\n",
              "      <td>Go until jurong point, crazy.. Available only ...</td>\n",
              "    </tr>\n",
              "    <tr>\n",
              "      <th>1</th>\n",
              "      <td>False</td>\n",
              "      <td>Ok lar... Joking wif u oni...</td>\n",
              "    </tr>\n",
              "    <tr>\n",
              "      <th>2</th>\n",
              "      <td>True</td>\n",
              "      <td>Free entry in 2 a wkly comp to win FA Cup fina...</td>\n",
              "    </tr>\n",
              "    <tr>\n",
              "      <th>3</th>\n",
              "      <td>False</td>\n",
              "      <td>U dun say so early hor... U c already then say...</td>\n",
              "    </tr>\n",
              "    <tr>\n",
              "      <th>4</th>\n",
              "      <td>False</td>\n",
              "      <td>Nah I don't think he goes to usf, he lives aro...</td>\n",
              "    </tr>\n",
              "    <tr>\n",
              "      <th>...</th>\n",
              "      <td>...</td>\n",
              "      <td>...</td>\n",
              "    </tr>\n",
              "    <tr>\n",
              "      <th>5567</th>\n",
              "      <td>True</td>\n",
              "      <td>This is the 2nd time we have tried 2 contact u...</td>\n",
              "    </tr>\n",
              "    <tr>\n",
              "      <th>5568</th>\n",
              "      <td>False</td>\n",
              "      <td>Will Ì_ b going to esplanade fr home?</td>\n",
              "    </tr>\n",
              "    <tr>\n",
              "      <th>5569</th>\n",
              "      <td>False</td>\n",
              "      <td>Pity, * was in mood for that. So...any other s...</td>\n",
              "    </tr>\n",
              "    <tr>\n",
              "      <th>5570</th>\n",
              "      <td>False</td>\n",
              "      <td>The guy did some bitching but I acted like i'd...</td>\n",
              "    </tr>\n",
              "    <tr>\n",
              "      <th>5571</th>\n",
              "      <td>False</td>\n",
              "      <td>Rofl. Its true to its name</td>\n",
              "    </tr>\n",
              "  </tbody>\n",
              "</table>\n",
              "<p>5572 rows × 2 columns</p>\n",
              "</div>"
            ],
            "text/plain": [
              "      label                                               text\n",
              "0     False  Go until jurong point, crazy.. Available only ...\n",
              "1     False                      Ok lar... Joking wif u oni...\n",
              "2      True  Free entry in 2 a wkly comp to win FA Cup fina...\n",
              "3     False  U dun say so early hor... U c already then say...\n",
              "4     False  Nah I don't think he goes to usf, he lives aro...\n",
              "...     ...                                                ...\n",
              "5567   True  This is the 2nd time we have tried 2 contact u...\n",
              "5568  False              Will Ì_ b going to esplanade fr home?\n",
              "5569  False  Pity, * was in mood for that. So...any other s...\n",
              "5570  False  The guy did some bitching but I acted like i'd...\n",
              "5571  False                         Rofl. Its true to its name\n",
              "\n",
              "[5572 rows x 2 columns]"
            ]
          },
          "metadata": {
            "tags": []
          },
          "execution_count": 22
        }
      ]
    },
    {
      "cell_type": "code",
      "metadata": {
        "colab": {
          "base_uri": "https://localhost:8080/",
          "height": 424
        },
        "id": "teFZzhHI31kq",
        "outputId": "c92cce1c-0f78-43f5-f8e0-0aa06503399b"
      },
      "source": [
        "# remove punctuations\n",
        "df2['text'] = df2['text'].str.replace('[^\\w\\s]','')\n",
        "df2"
      ],
      "execution_count": 23,
      "outputs": [
        {
          "output_type": "execute_result",
          "data": {
            "text/html": [
              "<div>\n",
              "<style scoped>\n",
              "    .dataframe tbody tr th:only-of-type {\n",
              "        vertical-align: middle;\n",
              "    }\n",
              "\n",
              "    .dataframe tbody tr th {\n",
              "        vertical-align: top;\n",
              "    }\n",
              "\n",
              "    .dataframe thead th {\n",
              "        text-align: right;\n",
              "    }\n",
              "</style>\n",
              "<table border=\"1\" class=\"dataframe\">\n",
              "  <thead>\n",
              "    <tr style=\"text-align: right;\">\n",
              "      <th></th>\n",
              "      <th>label</th>\n",
              "      <th>text</th>\n",
              "    </tr>\n",
              "  </thead>\n",
              "  <tbody>\n",
              "    <tr>\n",
              "      <th>0</th>\n",
              "      <td>False</td>\n",
              "      <td>Go until jurong point crazy Available only in ...</td>\n",
              "    </tr>\n",
              "    <tr>\n",
              "      <th>1</th>\n",
              "      <td>False</td>\n",
              "      <td>Ok lar Joking wif u oni</td>\n",
              "    </tr>\n",
              "    <tr>\n",
              "      <th>2</th>\n",
              "      <td>True</td>\n",
              "      <td>Free entry in 2 a wkly comp to win FA Cup fina...</td>\n",
              "    </tr>\n",
              "    <tr>\n",
              "      <th>3</th>\n",
              "      <td>False</td>\n",
              "      <td>U dun say so early hor U c already then say</td>\n",
              "    </tr>\n",
              "    <tr>\n",
              "      <th>4</th>\n",
              "      <td>False</td>\n",
              "      <td>Nah I dont think he goes to usf he lives aroun...</td>\n",
              "    </tr>\n",
              "    <tr>\n",
              "      <th>...</th>\n",
              "      <td>...</td>\n",
              "      <td>...</td>\n",
              "    </tr>\n",
              "    <tr>\n",
              "      <th>5567</th>\n",
              "      <td>True</td>\n",
              "      <td>This is the 2nd time we have tried 2 contact u...</td>\n",
              "    </tr>\n",
              "    <tr>\n",
              "      <th>5568</th>\n",
              "      <td>False</td>\n",
              "      <td>Will Ì_ b going to esplanade fr home</td>\n",
              "    </tr>\n",
              "    <tr>\n",
              "      <th>5569</th>\n",
              "      <td>False</td>\n",
              "      <td>Pity  was in mood for that Soany other suggest...</td>\n",
              "    </tr>\n",
              "    <tr>\n",
              "      <th>5570</th>\n",
              "      <td>False</td>\n",
              "      <td>The guy did some bitching but I acted like id ...</td>\n",
              "    </tr>\n",
              "    <tr>\n",
              "      <th>5571</th>\n",
              "      <td>False</td>\n",
              "      <td>Rofl Its true to its name</td>\n",
              "    </tr>\n",
              "  </tbody>\n",
              "</table>\n",
              "<p>5572 rows × 2 columns</p>\n",
              "</div>"
            ],
            "text/plain": [
              "      label                                               text\n",
              "0     False  Go until jurong point crazy Available only in ...\n",
              "1     False                            Ok lar Joking wif u oni\n",
              "2      True  Free entry in 2 a wkly comp to win FA Cup fina...\n",
              "3     False        U dun say so early hor U c already then say\n",
              "4     False  Nah I dont think he goes to usf he lives aroun...\n",
              "...     ...                                                ...\n",
              "5567   True  This is the 2nd time we have tried 2 contact u...\n",
              "5568  False               Will Ì_ b going to esplanade fr home\n",
              "5569  False  Pity  was in mood for that Soany other suggest...\n",
              "5570  False  The guy did some bitching but I acted like id ...\n",
              "5571  False                          Rofl Its true to its name\n",
              "\n",
              "[5572 rows x 2 columns]"
            ]
          },
          "metadata": {
            "tags": []
          },
          "execution_count": 23
        }
      ]
    },
    {
      "cell_type": "code",
      "metadata": {
        "colab": {
          "base_uri": "https://localhost:8080/",
          "height": 424
        },
        "id": "uHczlOMJ4-y_",
        "outputId": "8221b330-d6b8-43f9-a0a6-ac686da5875a"
      },
      "source": [
        "# lowerize the strings\n",
        "df2['text'] = df2['text'].apply(lambda x: \" \".join(str(x).lower() for x in str(x).split()))\n",
        "df2"
      ],
      "execution_count": 24,
      "outputs": [
        {
          "output_type": "execute_result",
          "data": {
            "text/html": [
              "<div>\n",
              "<style scoped>\n",
              "    .dataframe tbody tr th:only-of-type {\n",
              "        vertical-align: middle;\n",
              "    }\n",
              "\n",
              "    .dataframe tbody tr th {\n",
              "        vertical-align: top;\n",
              "    }\n",
              "\n",
              "    .dataframe thead th {\n",
              "        text-align: right;\n",
              "    }\n",
              "</style>\n",
              "<table border=\"1\" class=\"dataframe\">\n",
              "  <thead>\n",
              "    <tr style=\"text-align: right;\">\n",
              "      <th></th>\n",
              "      <th>label</th>\n",
              "      <th>text</th>\n",
              "    </tr>\n",
              "  </thead>\n",
              "  <tbody>\n",
              "    <tr>\n",
              "      <th>0</th>\n",
              "      <td>False</td>\n",
              "      <td>go until jurong point crazy available only in ...</td>\n",
              "    </tr>\n",
              "    <tr>\n",
              "      <th>1</th>\n",
              "      <td>False</td>\n",
              "      <td>ok lar joking wif u oni</td>\n",
              "    </tr>\n",
              "    <tr>\n",
              "      <th>2</th>\n",
              "      <td>True</td>\n",
              "      <td>free entry in 2 a wkly comp to win fa cup fina...</td>\n",
              "    </tr>\n",
              "    <tr>\n",
              "      <th>3</th>\n",
              "      <td>False</td>\n",
              "      <td>u dun say so early hor u c already then say</td>\n",
              "    </tr>\n",
              "    <tr>\n",
              "      <th>4</th>\n",
              "      <td>False</td>\n",
              "      <td>nah i dont think he goes to usf he lives aroun...</td>\n",
              "    </tr>\n",
              "    <tr>\n",
              "      <th>...</th>\n",
              "      <td>...</td>\n",
              "      <td>...</td>\n",
              "    </tr>\n",
              "    <tr>\n",
              "      <th>5567</th>\n",
              "      <td>True</td>\n",
              "      <td>this is the 2nd time we have tried 2 contact u...</td>\n",
              "    </tr>\n",
              "    <tr>\n",
              "      <th>5568</th>\n",
              "      <td>False</td>\n",
              "      <td>will ì_ b going to esplanade fr home</td>\n",
              "    </tr>\n",
              "    <tr>\n",
              "      <th>5569</th>\n",
              "      <td>False</td>\n",
              "      <td>pity was in mood for that soany other suggestions</td>\n",
              "    </tr>\n",
              "    <tr>\n",
              "      <th>5570</th>\n",
              "      <td>False</td>\n",
              "      <td>the guy did some bitching but i acted like id ...</td>\n",
              "    </tr>\n",
              "    <tr>\n",
              "      <th>5571</th>\n",
              "      <td>False</td>\n",
              "      <td>rofl its true to its name</td>\n",
              "    </tr>\n",
              "  </tbody>\n",
              "</table>\n",
              "<p>5572 rows × 2 columns</p>\n",
              "</div>"
            ],
            "text/plain": [
              "      label                                               text\n",
              "0     False  go until jurong point crazy available only in ...\n",
              "1     False                            ok lar joking wif u oni\n",
              "2      True  free entry in 2 a wkly comp to win fa cup fina...\n",
              "3     False        u dun say so early hor u c already then say\n",
              "4     False  nah i dont think he goes to usf he lives aroun...\n",
              "...     ...                                                ...\n",
              "5567   True  this is the 2nd time we have tried 2 contact u...\n",
              "5568  False               will ì_ b going to esplanade fr home\n",
              "5569  False  pity was in mood for that soany other suggestions\n",
              "5570  False  the guy did some bitching but i acted like id ...\n",
              "5571  False                          rofl its true to its name\n",
              "\n",
              "[5572 rows x 2 columns]"
            ]
          },
          "metadata": {
            "tags": []
          },
          "execution_count": 24
        }
      ]
    },
    {
      "cell_type": "code",
      "metadata": {
        "colab": {
          "base_uri": "https://localhost:8080/",
          "height": 424
        },
        "id": "dPStQO6a6OGs",
        "outputId": "2032fcfb-13ae-42a8-aab2-d3545739a92c"
      },
      "source": [
        "#remove special characters\n",
        "df2['text'].replace(regex=True, inplace=True, to_replace= r'[^0-9a-z ]', value= r'')\n",
        "df2"
      ],
      "execution_count": 25,
      "outputs": [
        {
          "output_type": "execute_result",
          "data": {
            "text/html": [
              "<div>\n",
              "<style scoped>\n",
              "    .dataframe tbody tr th:only-of-type {\n",
              "        vertical-align: middle;\n",
              "    }\n",
              "\n",
              "    .dataframe tbody tr th {\n",
              "        vertical-align: top;\n",
              "    }\n",
              "\n",
              "    .dataframe thead th {\n",
              "        text-align: right;\n",
              "    }\n",
              "</style>\n",
              "<table border=\"1\" class=\"dataframe\">\n",
              "  <thead>\n",
              "    <tr style=\"text-align: right;\">\n",
              "      <th></th>\n",
              "      <th>label</th>\n",
              "      <th>text</th>\n",
              "    </tr>\n",
              "  </thead>\n",
              "  <tbody>\n",
              "    <tr>\n",
              "      <th>0</th>\n",
              "      <td>False</td>\n",
              "      <td>go until jurong point crazy available only in ...</td>\n",
              "    </tr>\n",
              "    <tr>\n",
              "      <th>1</th>\n",
              "      <td>False</td>\n",
              "      <td>ok lar joking wif u oni</td>\n",
              "    </tr>\n",
              "    <tr>\n",
              "      <th>2</th>\n",
              "      <td>True</td>\n",
              "      <td>free entry in 2 a wkly comp to win fa cup fina...</td>\n",
              "    </tr>\n",
              "    <tr>\n",
              "      <th>3</th>\n",
              "      <td>False</td>\n",
              "      <td>u dun say so early hor u c already then say</td>\n",
              "    </tr>\n",
              "    <tr>\n",
              "      <th>4</th>\n",
              "      <td>False</td>\n",
              "      <td>nah i dont think he goes to usf he lives aroun...</td>\n",
              "    </tr>\n",
              "    <tr>\n",
              "      <th>...</th>\n",
              "      <td>...</td>\n",
              "      <td>...</td>\n",
              "    </tr>\n",
              "    <tr>\n",
              "      <th>5567</th>\n",
              "      <td>True</td>\n",
              "      <td>this is the 2nd time we have tried 2 contact u...</td>\n",
              "    </tr>\n",
              "    <tr>\n",
              "      <th>5568</th>\n",
              "      <td>False</td>\n",
              "      <td>will  b going to esplanade fr home</td>\n",
              "    </tr>\n",
              "    <tr>\n",
              "      <th>5569</th>\n",
              "      <td>False</td>\n",
              "      <td>pity was in mood for that soany other suggestions</td>\n",
              "    </tr>\n",
              "    <tr>\n",
              "      <th>5570</th>\n",
              "      <td>False</td>\n",
              "      <td>the guy did some bitching but i acted like id ...</td>\n",
              "    </tr>\n",
              "    <tr>\n",
              "      <th>5571</th>\n",
              "      <td>False</td>\n",
              "      <td>rofl its true to its name</td>\n",
              "    </tr>\n",
              "  </tbody>\n",
              "</table>\n",
              "<p>5572 rows × 2 columns</p>\n",
              "</div>"
            ],
            "text/plain": [
              "      label                                               text\n",
              "0     False  go until jurong point crazy available only in ...\n",
              "1     False                            ok lar joking wif u oni\n",
              "2      True  free entry in 2 a wkly comp to win fa cup fina...\n",
              "3     False        u dun say so early hor u c already then say\n",
              "4     False  nah i dont think he goes to usf he lives aroun...\n",
              "...     ...                                                ...\n",
              "5567   True  this is the 2nd time we have tried 2 contact u...\n",
              "5568  False                 will  b going to esplanade fr home\n",
              "5569  False  pity was in mood for that soany other suggestions\n",
              "5570  False  the guy did some bitching but i acted like id ...\n",
              "5571  False                          rofl its true to its name\n",
              "\n",
              "[5572 rows x 2 columns]"
            ]
          },
          "metadata": {
            "tags": []
          },
          "execution_count": 25
        }
      ]
    },
    {
      "cell_type": "code",
      "metadata": {
        "colab": {
          "base_uri": "https://localhost:8080/",
          "height": 424
        },
        "id": "mS4u9CjzJcQA",
        "outputId": "08dbf868-5282-4b53-cbc6-3906d06b85e7"
      },
      "source": [
        "# strip off extra spaces\n",
        "df2['text'] = df2['text'].apply(lambda x: x.strip())\n",
        "df2"
      ],
      "execution_count": 26,
      "outputs": [
        {
          "output_type": "execute_result",
          "data": {
            "text/html": [
              "<div>\n",
              "<style scoped>\n",
              "    .dataframe tbody tr th:only-of-type {\n",
              "        vertical-align: middle;\n",
              "    }\n",
              "\n",
              "    .dataframe tbody tr th {\n",
              "        vertical-align: top;\n",
              "    }\n",
              "\n",
              "    .dataframe thead th {\n",
              "        text-align: right;\n",
              "    }\n",
              "</style>\n",
              "<table border=\"1\" class=\"dataframe\">\n",
              "  <thead>\n",
              "    <tr style=\"text-align: right;\">\n",
              "      <th></th>\n",
              "      <th>label</th>\n",
              "      <th>text</th>\n",
              "    </tr>\n",
              "  </thead>\n",
              "  <tbody>\n",
              "    <tr>\n",
              "      <th>0</th>\n",
              "      <td>False</td>\n",
              "      <td>go until jurong point crazy available only in ...</td>\n",
              "    </tr>\n",
              "    <tr>\n",
              "      <th>1</th>\n",
              "      <td>False</td>\n",
              "      <td>ok lar joking wif u oni</td>\n",
              "    </tr>\n",
              "    <tr>\n",
              "      <th>2</th>\n",
              "      <td>True</td>\n",
              "      <td>free entry in 2 a wkly comp to win fa cup fina...</td>\n",
              "    </tr>\n",
              "    <tr>\n",
              "      <th>3</th>\n",
              "      <td>False</td>\n",
              "      <td>u dun say so early hor u c already then say</td>\n",
              "    </tr>\n",
              "    <tr>\n",
              "      <th>4</th>\n",
              "      <td>False</td>\n",
              "      <td>nah i dont think he goes to usf he lives aroun...</td>\n",
              "    </tr>\n",
              "    <tr>\n",
              "      <th>...</th>\n",
              "      <td>...</td>\n",
              "      <td>...</td>\n",
              "    </tr>\n",
              "    <tr>\n",
              "      <th>5567</th>\n",
              "      <td>True</td>\n",
              "      <td>this is the 2nd time we have tried 2 contact u...</td>\n",
              "    </tr>\n",
              "    <tr>\n",
              "      <th>5568</th>\n",
              "      <td>False</td>\n",
              "      <td>will  b going to esplanade fr home</td>\n",
              "    </tr>\n",
              "    <tr>\n",
              "      <th>5569</th>\n",
              "      <td>False</td>\n",
              "      <td>pity was in mood for that soany other suggestions</td>\n",
              "    </tr>\n",
              "    <tr>\n",
              "      <th>5570</th>\n",
              "      <td>False</td>\n",
              "      <td>the guy did some bitching but i acted like id ...</td>\n",
              "    </tr>\n",
              "    <tr>\n",
              "      <th>5571</th>\n",
              "      <td>False</td>\n",
              "      <td>rofl its true to its name</td>\n",
              "    </tr>\n",
              "  </tbody>\n",
              "</table>\n",
              "<p>5572 rows × 2 columns</p>\n",
              "</div>"
            ],
            "text/plain": [
              "      label                                               text\n",
              "0     False  go until jurong point crazy available only in ...\n",
              "1     False                            ok lar joking wif u oni\n",
              "2      True  free entry in 2 a wkly comp to win fa cup fina...\n",
              "3     False        u dun say so early hor u c already then say\n",
              "4     False  nah i dont think he goes to usf he lives aroun...\n",
              "...     ...                                                ...\n",
              "5567   True  this is the 2nd time we have tried 2 contact u...\n",
              "5568  False                 will  b going to esplanade fr home\n",
              "5569  False  pity was in mood for that soany other suggestions\n",
              "5570  False  the guy did some bitching but i acted like id ...\n",
              "5571  False                          rofl its true to its name\n",
              "\n",
              "[5572 rows x 2 columns]"
            ]
          },
          "metadata": {
            "tags": []
          },
          "execution_count": 26
        }
      ]
    },
    {
      "cell_type": "code",
      "metadata": {
        "colab": {
          "base_uri": "https://localhost:8080/",
          "height": 424
        },
        "id": "n1jb-HrW4VBq",
        "outputId": "7db223ed-87f3-4e87-b9d4-69c9d44a2462"
      },
      "source": [
        "# drop duplicate entries\n",
        "df2.drop_duplicates()\n",
        "df2"
      ],
      "execution_count": 27,
      "outputs": [
        {
          "output_type": "execute_result",
          "data": {
            "text/html": [
              "<div>\n",
              "<style scoped>\n",
              "    .dataframe tbody tr th:only-of-type {\n",
              "        vertical-align: middle;\n",
              "    }\n",
              "\n",
              "    .dataframe tbody tr th {\n",
              "        vertical-align: top;\n",
              "    }\n",
              "\n",
              "    .dataframe thead th {\n",
              "        text-align: right;\n",
              "    }\n",
              "</style>\n",
              "<table border=\"1\" class=\"dataframe\">\n",
              "  <thead>\n",
              "    <tr style=\"text-align: right;\">\n",
              "      <th></th>\n",
              "      <th>label</th>\n",
              "      <th>text</th>\n",
              "    </tr>\n",
              "  </thead>\n",
              "  <tbody>\n",
              "    <tr>\n",
              "      <th>0</th>\n",
              "      <td>False</td>\n",
              "      <td>go until jurong point crazy available only in ...</td>\n",
              "    </tr>\n",
              "    <tr>\n",
              "      <th>1</th>\n",
              "      <td>False</td>\n",
              "      <td>ok lar joking wif u oni</td>\n",
              "    </tr>\n",
              "    <tr>\n",
              "      <th>2</th>\n",
              "      <td>True</td>\n",
              "      <td>free entry in 2 a wkly comp to win fa cup fina...</td>\n",
              "    </tr>\n",
              "    <tr>\n",
              "      <th>3</th>\n",
              "      <td>False</td>\n",
              "      <td>u dun say so early hor u c already then say</td>\n",
              "    </tr>\n",
              "    <tr>\n",
              "      <th>4</th>\n",
              "      <td>False</td>\n",
              "      <td>nah i dont think he goes to usf he lives aroun...</td>\n",
              "    </tr>\n",
              "    <tr>\n",
              "      <th>...</th>\n",
              "      <td>...</td>\n",
              "      <td>...</td>\n",
              "    </tr>\n",
              "    <tr>\n",
              "      <th>5567</th>\n",
              "      <td>True</td>\n",
              "      <td>this is the 2nd time we have tried 2 contact u...</td>\n",
              "    </tr>\n",
              "    <tr>\n",
              "      <th>5568</th>\n",
              "      <td>False</td>\n",
              "      <td>will  b going to esplanade fr home</td>\n",
              "    </tr>\n",
              "    <tr>\n",
              "      <th>5569</th>\n",
              "      <td>False</td>\n",
              "      <td>pity was in mood for that soany other suggestions</td>\n",
              "    </tr>\n",
              "    <tr>\n",
              "      <th>5570</th>\n",
              "      <td>False</td>\n",
              "      <td>the guy did some bitching but i acted like id ...</td>\n",
              "    </tr>\n",
              "    <tr>\n",
              "      <th>5571</th>\n",
              "      <td>False</td>\n",
              "      <td>rofl its true to its name</td>\n",
              "    </tr>\n",
              "  </tbody>\n",
              "</table>\n",
              "<p>5572 rows × 2 columns</p>\n",
              "</div>"
            ],
            "text/plain": [
              "      label                                               text\n",
              "0     False  go until jurong point crazy available only in ...\n",
              "1     False                            ok lar joking wif u oni\n",
              "2      True  free entry in 2 a wkly comp to win fa cup fina...\n",
              "3     False        u dun say so early hor u c already then say\n",
              "4     False  nah i dont think he goes to usf he lives aroun...\n",
              "...     ...                                                ...\n",
              "5567   True  this is the 2nd time we have tried 2 contact u...\n",
              "5568  False                 will  b going to esplanade fr home\n",
              "5569  False  pity was in mood for that soany other suggestions\n",
              "5570  False  the guy did some bitching but i acted like id ...\n",
              "5571  False                          rofl its true to its name\n",
              "\n",
              "[5572 rows x 2 columns]"
            ]
          },
          "metadata": {
            "tags": []
          },
          "execution_count": 27
        }
      ]
    },
    {
      "cell_type": "code",
      "metadata": {
        "colab": {
          "base_uri": "https://localhost:8080/",
          "height": 224
        },
        "id": "GHnrFJSV5VrD",
        "outputId": "d6a7e03d-fe51-453c-f732-7a9fb0c289f1"
      },
      "source": [
        "# generate word count\n",
        "df2['word_count'] = df2['text'].apply(lambda x: len(str(x).split(\" \")))\n",
        "df2[['text','word_count']].head()\n",
        "print(df2['word_count'].sum())\n",
        "df2.head()"
      ],
      "execution_count": 28,
      "outputs": [
        {
          "output_type": "stream",
          "text": [
            "85071\n"
          ],
          "name": "stdout"
        },
        {
          "output_type": "execute_result",
          "data": {
            "text/html": [
              "<div>\n",
              "<style scoped>\n",
              "    .dataframe tbody tr th:only-of-type {\n",
              "        vertical-align: middle;\n",
              "    }\n",
              "\n",
              "    .dataframe tbody tr th {\n",
              "        vertical-align: top;\n",
              "    }\n",
              "\n",
              "    .dataframe thead th {\n",
              "        text-align: right;\n",
              "    }\n",
              "</style>\n",
              "<table border=\"1\" class=\"dataframe\">\n",
              "  <thead>\n",
              "    <tr style=\"text-align: right;\">\n",
              "      <th></th>\n",
              "      <th>label</th>\n",
              "      <th>text</th>\n",
              "      <th>word_count</th>\n",
              "    </tr>\n",
              "  </thead>\n",
              "  <tbody>\n",
              "    <tr>\n",
              "      <th>0</th>\n",
              "      <td>False</td>\n",
              "      <td>go until jurong point crazy available only in ...</td>\n",
              "      <td>20</td>\n",
              "    </tr>\n",
              "    <tr>\n",
              "      <th>1</th>\n",
              "      <td>False</td>\n",
              "      <td>ok lar joking wif u oni</td>\n",
              "      <td>6</td>\n",
              "    </tr>\n",
              "    <tr>\n",
              "      <th>2</th>\n",
              "      <td>True</td>\n",
              "      <td>free entry in 2 a wkly comp to win fa cup fina...</td>\n",
              "      <td>28</td>\n",
              "    </tr>\n",
              "    <tr>\n",
              "      <th>3</th>\n",
              "      <td>False</td>\n",
              "      <td>u dun say so early hor u c already then say</td>\n",
              "      <td>11</td>\n",
              "    </tr>\n",
              "    <tr>\n",
              "      <th>4</th>\n",
              "      <td>False</td>\n",
              "      <td>nah i dont think he goes to usf he lives aroun...</td>\n",
              "      <td>13</td>\n",
              "    </tr>\n",
              "  </tbody>\n",
              "</table>\n",
              "</div>"
            ],
            "text/plain": [
              "   label                                               text  word_count\n",
              "0  False  go until jurong point crazy available only in ...          20\n",
              "1  False                            ok lar joking wif u oni           6\n",
              "2   True  free entry in 2 a wkly comp to win fa cup fina...          28\n",
              "3  False        u dun say so early hor u c already then say          11\n",
              "4  False  nah i dont think he goes to usf he lives aroun...          13"
            ]
          },
          "metadata": {
            "tags": []
          },
          "execution_count": 28
        }
      ]
    },
    {
      "cell_type": "code",
      "metadata": {
        "colab": {
          "base_uri": "https://localhost:8080/"
        },
        "id": "CVCFsTow7_Hz",
        "outputId": "fa7fa0e4-a6cd-4a8d-d577-c15d301a76cf"
      },
      "source": [
        "# compute the size of vocabulary\n",
        "vocabulary = []\n",
        "for x in df2['text']:\n",
        "  vocabulary = vocabulary + x.split()\n",
        "vocabulary = list(set(vocabulary))\n",
        "print(\"Vocabulary Size:\")\n",
        "print(len(vocabulary))"
      ],
      "execution_count": 29,
      "outputs": [
        {
          "output_type": "stream",
          "text": [
            "Vocabulary Size:\n",
            "9477\n"
          ],
          "name": "stdout"
        }
      ]
    },
    {
      "cell_type": "markdown",
      "metadata": {
        "id": "TbbXF5c671No"
      },
      "source": [
        "## Split test and train dataset"
      ]
    },
    {
      "cell_type": "code",
      "metadata": {
        "id": "VRRSlCGCG1hE"
      },
      "source": [
        "split_ratio = 0.75\n",
        "\n",
        "df_train = df2.sample(frac=split_ratio,random_state=200) #random state is a seed value\n",
        "df_test = df2.drop(df_train.index).sample(frac=1.0)"
      ],
      "execution_count": 30,
      "outputs": []
    },
    {
      "cell_type": "markdown",
      "metadata": {
        "id": "2NiIqqkgA1oJ"
      },
      "source": [
        "## Multinomial Naive Bayes Implementation"
      ]
    },
    {
      "cell_type": "code",
      "metadata": {
        "id": "EOMgKtEmvmLi"
      },
      "source": [
        "class MultiNomialNB(object):\n",
        "    def __init__(self, df, smoothing = 1):\n",
        "        spam_list = df[df['label'] == 1]\n",
        "        ham_list = df[df['label'] == 0]\n",
        "        \n",
        "        spam_len = len(spam_list)\n",
        "        ham_len = len(ham_list)\n",
        "        \n",
        "        self.spam_prob_dict = self.log_probs(spam_list, smoothing)\n",
        "        self.ham_prob_dict = self.log_probs(ham_list, smoothing)\n",
        "        self.spam_prob = self.calc_prob(spam_len, 0, spam_len + ham_len, 1)\n",
        "        self.ham_prob = self.calc_prob(ham_len, 0, spam_len + ham_len, 1)\n",
        "        p = math.exp(self.spam_prob)\n",
        "        prob_dict = {}\n",
        "        \n",
        "        for key, val in self.spam_prob_dict.items():\n",
        "            if key in self.ham_prob_dict.keys():\n",
        "                cur_prob = p*math.exp(self.spam_prob_dict[key])\n",
        "                cur_prob += (1.0 - p)*math.exp(self.ham_prob_dict[key])\n",
        "                prob_dict[key] = math.log(cur_prob)\n",
        "\n",
        "    def calc_prob(self, cur_count, alpha, total_count, V):\n",
        "        numerator = cur_count + alpha + 0.000\n",
        "        denominator = total_count + alpha*(V + 1.000) + 0.000\n",
        "        result = math.log(numerator/ denominator)\n",
        "        return result    \n",
        "\n",
        "    def log_probs(self, df, smoothing):\n",
        "        word_count = {}\n",
        "        prob = {}\n",
        "        for index, sms in df.iterrows():\n",
        "            tokens = sms['text'].split()\n",
        "            for token in tokens:\n",
        "                if token not in word_count.keys():\n",
        "                    word_count[token] = 1\n",
        "                else:\n",
        "                    word_count[token] += 1\n",
        "\n",
        "        V = len(word_count)\n",
        "        total_word_count = 0\n",
        "        for word, count in word_count.items():\n",
        "            total_word_count += count\n",
        "\n",
        "        for word, count in word_count.items():\n",
        "            prob[word] = self.calc_prob(word_count[word], smoothing,\n",
        "            total_word_count, V)\n",
        "        prob[\"<UNK>\"] = self.calc_prob(0, smoothing,\n",
        "            total_word_count, V)\n",
        "\n",
        "        return prob\n",
        "\n",
        "    def is_spam(self, sms_data):\n",
        "        tokens = sms_data['text'].split()\n",
        "        p_spam = self.spam_prob\n",
        "        p_not_spam = self.ham_prob\n",
        "\n",
        "        for word in tokens:\n",
        "            if word in self.spam_prob_dict.keys():\n",
        "                p_spam += self.spam_prob_dict[word]\n",
        "            else:\n",
        "                p_spam += self.spam_prob_dict[\"<UNK>\"]\n",
        "        \n",
        "        for word in tokens:\n",
        "            if word in self.ham_prob_dict.keys():\n",
        "                p_not_spam += self.ham_prob_dict[word]\n",
        "            else:\n",
        "                p_not_spam += self.ham_prob_dict[\"<UNK>\"]\n",
        "\n",
        "        if p_spam >= p_not_spam:\n",
        "            return True\n",
        "        return False\n",
        "\n",
        "    def accuracy(self, df):\n",
        "        tot = len(df)\n",
        "        freq = 0\n",
        "        for index, sms in df.iterrows():\n",
        "            if self.is_spam(sms) == sms['label']:\n",
        "                freq += 1\n",
        "        return freq * 100 / tot"
      ],
      "execution_count": 34,
      "outputs": []
    },
    {
      "cell_type": "code",
      "metadata": {
        "colab": {
          "base_uri": "https://localhost:8080/"
        },
        "id": "5XtAnsFO9cWl",
        "outputId": "ef76c354-9da7-40a3-83cf-4609bcf1e05c"
      },
      "source": [
        "spam_filter = MultiNomialNB(df_train, smoothing = 0.5)\n",
        "print(f\"Accuracy : {spam_filter.accuracy(df_test)}%\")"
      ],
      "execution_count": 42,
      "outputs": [
        {
          "output_type": "stream",
          "text": [
            "Accuracy : 96.76956209619526%\n"
          ],
          "name": "stdout"
        }
      ]
    },
    {
      "cell_type": "markdown",
      "metadata": {
        "id": "t6I-vscHEWAS"
      },
      "source": [
        "## Multi-variate Bernoulli Naive Bayes"
      ]
    },
    {
      "cell_type": "code",
      "metadata": {
        "id": "I_P3wVlMBCuY"
      },
      "source": [
        "class MultiVariateBernoulliNB(object):\n",
        "    def __init__(self, df, smoothing = 1):\n",
        "        spam_list = df[df['label'] == 1]\n",
        "        ham_list = df[df['label'] == 0]\n",
        "        \n",
        "        spam_len = len(spam_list)\n",
        "        ham_len = len(ham_list)\n",
        "        \n",
        "        self.spam_prob_dict = self.log_probs(spam_list, smoothing)\n",
        "        self.ham_prob_dict = self.log_probs(ham_list, smoothing)\n",
        "        self.spam_prob = self.calc_prob(spam_len, 0, spam_len + ham_len, 1)\n",
        "        self.ham_prob = self.calc_prob(ham_len, 0, spam_len + ham_len, 1)\n",
        "        p = math.exp(self.spam_prob)\n",
        "        prob_dict = {}\n",
        "        \n",
        "        for key, val in self.spam_prob_dict.items():\n",
        "            if key in self.ham_prob_dict.keys():\n",
        "                cur_prob = p*math.exp(self.spam_prob_dict[key])\n",
        "                cur_prob += (1.0 - p)*math.exp(self.ham_prob_dict[key])\n",
        "                prob_dict[key] = math.log(cur_prob)\n",
        "\n",
        "    def calc_prob(self, cur_count, alpha, total_count, V):\n",
        "        numerator = cur_count + alpha + 0.000\n",
        "        denominator = total_count + alpha*(V + 1.000) + 0.000\n",
        "        result = math.log(numerator/ denominator)\n",
        "        return result    \n",
        "\n",
        "    def log_probs(self, df, smoothing):\n",
        "        word_count = {}\n",
        "        prob = {}\n",
        "        for index, sms in df.iterrows():\n",
        "            tokens = sms['text'].split()\n",
        "            tokens = set(tokens)\n",
        "            for token in tokens:\n",
        "                if token not in word_count.keys():\n",
        "                    word_count[token] = 1\n",
        "                else:\n",
        "                    word_count[token] += 1\n",
        "\n",
        "        V = len(word_count)\n",
        "        total_word_count = 0\n",
        "        for word, count in word_count.items():\n",
        "            total_word_count += count\n",
        "\n",
        "        for word, count in word_count.items():\n",
        "            prob[word] = self.calc_prob(word_count[word], smoothing,\n",
        "            total_word_count, V)\n",
        "        prob[\"<UNK>\"] = self.calc_prob(0, smoothing,\n",
        "            total_word_count, V)\n",
        "\n",
        "        return prob\n",
        "\n",
        "    def is_spam(self, sms_data):\n",
        "        tokens = sms_data['text'].split()\n",
        "        tokens = set(tokens)\n",
        "        p_spam = self.spam_prob\n",
        "        p_not_spam = self.ham_prob\n",
        "\n",
        "        for word in tokens:\n",
        "            if word in self.spam_prob_dict.keys():\n",
        "                p_spam += self.spam_prob_dict[word]\n",
        "            else:\n",
        "                p_spam += self.spam_prob_dict[\"<UNK>\"]\n",
        "        \n",
        "        for word in tokens:\n",
        "            if word in self.ham_prob_dict.keys():\n",
        "                p_not_spam += self.ham_prob_dict[word]\n",
        "            else:\n",
        "                p_not_spam += self.ham_prob_dict[\"<UNK>\"]\n",
        "\n",
        "        if p_spam >= p_not_spam:\n",
        "            return True\n",
        "        return False\n",
        "\n",
        "    def accuracy(self, df):\n",
        "        tot = len(df)\n",
        "        freq = 0\n",
        "        for index, sms in df.iterrows():\n",
        "            if self.is_spam(sms) == sms['label']:\n",
        "                freq += 1\n",
        "        return freq * 100 / tot"
      ],
      "execution_count": 36,
      "outputs": []
    },
    {
      "cell_type": "code",
      "metadata": {
        "colab": {
          "base_uri": "https://localhost:8080/"
        },
        "id": "8puz-jGTCp2h",
        "outputId": "02e75558-349e-42ad-e61f-9324090f9fe2"
      },
      "source": [
        "spam_filter = MultiVariateBernoulliNB(df_train, smoothing = 1)\n",
        "print(f\"Accuracy : {spam_filter.accuracy(df_test)}%\")"
      ],
      "execution_count": 38,
      "outputs": [
        {
          "output_type": "stream",
          "text": [
            "Accuracy : 95.83632447954056%\n"
          ],
          "name": "stdout"
        }
      ]
    },
    {
      "cell_type": "markdown",
      "metadata": {
        "id": "DEAFnjc1ICbD"
      },
      "source": [
        "## Gaussian Naive Bayes"
      ]
    },
    {
      "cell_type": "code",
      "metadata": {
        "id": "K7U8bQfPHVDT"
      },
      "source": [
        "def convertDataframeToMatrix(df):\n",
        "  X = np.zeros((len(df), len(vocabulary)))\n",
        "  for i in range(X.shape[0]):\n",
        "    for j in range(X.shape[1]):\n",
        "      if vocabulary[j] in df.iloc[i].text:\n",
        "        X[i][j] += 1\n",
        "  return X"
      ],
      "execution_count": 31,
      "outputs": []
    },
    {
      "cell_type": "code",
      "metadata": {
        "id": "OVWNT6hyPkYF"
      },
      "source": [
        "class GaussianNB:\r\n",
        "  phi = None\r\n",
        "  mu = None\r\n",
        "  E_inv = None\r\n",
        "  def fit(self, X, Y):\r\n",
        "    self.phi = Y.mean()\r\n",
        "    \r\n",
        "    self.mu = np.zeros((2, X.shape[1]))\r\n",
        "    for i in range(2):\r\n",
        "      self.mu[i] = X[Y == i].mean(axis = 0)\r\n",
        "    \r\n",
        "    X_central = X.copy()\r\n",
        "    for i in range(2):\r\n",
        "      X_central[Y == i] =  X_central[Y == i] - self.mu[i]\r\n",
        "    E = np.dot(X_central.T, X_central) / (X.shape[0])\r\n",
        "    self.E_inv = np.linalg.pinv(E)\r\n",
        "    \r\n",
        "  def getProbability(self, X, y):\r\n",
        "    p_y = np.power(self.phi, y) * np.power(1 - self.phi, 1 - y)\r\n",
        "    res = np.exp(-1 * np.sum( np.dot((X - self.mu[y]), self.E_inv)*(X - self.mu[y]) , axis = 1))\r\n",
        "    res = res * p_y\r\n",
        "    return res\r\n",
        "\r\n",
        "  def predict(self, X):\r\n",
        "    prob = np.zeros((2, X.shape[0]))\r\n",
        "    for i in range(2):\r\n",
        "      prob[i] = self.getProbability(X, i)\r\n",
        "\r\n",
        "    return np.argmax(prob, axis = 0)\r\n",
        "  \r\n",
        "  def getAccuracy(self, X, Y):\r\n",
        "    return (self.predict(X) == Y).mean()"
      ],
      "execution_count": 32,
      "outputs": []
    },
    {
      "cell_type": "code",
      "metadata": {
        "id": "ylzC0z32ksVG"
      },
      "source": [
        "# GDA_model = GaussianNB()\r\n",
        "# GDA_model.fit(X_train,Y_train)\r\n",
        "# print(f\"Accuracy : { round(GDA_model.getAccuracy(X_test,Y_test) * 100, 2) }%\")"
      ],
      "execution_count": 33,
      "outputs": []
    },
    {
      "cell_type": "markdown",
      "metadata": {
        "id": "db9AWe_vIJTJ"
      },
      "source": [
        "## Analysis"
      ]
    },
    {
      "cell_type": "markdown",
      "metadata": {
        "id": "PeVW10s-IM_Y"
      },
      "source": [
        "Comparison and results can be found in \"analysis.pdf\""
      ]
    }
  ]
}