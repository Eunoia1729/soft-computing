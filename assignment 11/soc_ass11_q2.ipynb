{
  "nbformat": 4,
  "nbformat_minor": 0,
  "metadata": {
    "colab": {
      "name": "soc_ass11_q2.ipynb",
      "provenance": []
    },
    "kernelspec": {
      "name": "python3",
      "display_name": "Python 3"
    },
    "language_info": {
      "name": "python"
    }
  },
  "cells": [
    {
      "cell_type": "markdown",
      "metadata": {
        "id": "oo3qR_b1C-DB"
      },
      "source": [
        "## Question - 2 : Fuzzy inference system for Restaurant Tipping Problem"
      ]
    },
    {
      "cell_type": "markdown",
      "metadata": {
        "id": "fPsI8LnNCrQx"
      },
      "source": [
        "**Note: Kindly run it on google colab or to run on local, comment the below cell and install scikit-fuzzy**"
      ]
    },
    {
      "cell_type": "code",
      "metadata": {
        "colab": {
          "base_uri": "https://localhost:8080/"
        },
        "id": "gIGC_U8yt0_b",
        "outputId": "535bf855-e089-467f-8875-2d0f4ffe0032"
      },
      "source": [
        "!pip install -U scikit-fuzzy"
      ],
      "execution_count": 1,
      "outputs": [
        {
          "output_type": "stream",
          "text": [
            "Requirement already up-to-date: scikit-fuzzy in /usr/local/lib/python3.7/dist-packages (0.4.2)\n",
            "Requirement already satisfied, skipping upgrade: numpy>=1.6.0 in /usr/local/lib/python3.7/dist-packages (from scikit-fuzzy) (1.19.5)\n",
            "Requirement already satisfied, skipping upgrade: networkx>=1.9.0 in /usr/local/lib/python3.7/dist-packages (from scikit-fuzzy) (2.5.1)\n",
            "Requirement already satisfied, skipping upgrade: scipy>=0.9.0 in /usr/local/lib/python3.7/dist-packages (from scikit-fuzzy) (1.4.1)\n",
            "Requirement already satisfied, skipping upgrade: decorator<5,>=4.3 in /usr/local/lib/python3.7/dist-packages (from networkx>=1.9.0->scikit-fuzzy) (4.4.2)\n"
          ],
          "name": "stdout"
        }
      ]
    },
    {
      "cell_type": "code",
      "metadata": {
        "id": "NuFWj78rCYpp"
      },
      "source": [
        "import numpy as np\n",
        "import skfuzzy as fuzz"
      ],
      "execution_count": 2,
      "outputs": []
    },
    {
      "cell_type": "markdown",
      "metadata": {
        "id": "-D-ERxUIDLtL"
      },
      "source": [
        "## Mamdani Method"
      ]
    },
    {
      "cell_type": "code",
      "metadata": {
        "id": "Nf5EZ034vtEg"
      },
      "source": [
        "def findTipUsingMamdani(service_score, food_score):\n",
        "\n",
        "  x_service = np.arange(0, 10.01, 0.5)\n",
        "  x_food = np.arange(0, 10.01, 0.5)\n",
        "  x_tip = np.arange(0, 25.01, 1.0)\n",
        "\n",
        "  service_low = fuzz.trimf(x_service, [0, 0, 5])\n",
        "  service_middle = fuzz.trimf(x_service, [0, 5, 10])\n",
        "  service_high = fuzz.trimf(x_service, [5, 10, 10])\n",
        "\n",
        "  food_low = fuzz.zmf(x_food, 0, 5)\n",
        "  food_middle = fuzz.pimf(x_food, 0, 4, 5, 10)\n",
        "  food_high = fuzz.smf(x_food, 5, 10)\n",
        "\n",
        "  tip_low = fuzz.trimf(x_tip, [0, 0, 13])\n",
        "  tip_middle = fuzz.trimf(x_tip, [0, 13, 25])\n",
        "  tip_high = fuzz.trimf(x_tip, [13, 25, 25])\n",
        "\n",
        "  service_low_degree = fuzz.interp_membership(\n",
        "      x_service, service_low, service_score)\n",
        "  service_middle_degree = fuzz.interp_membership(\n",
        "      x_service, service_middle, service_score)\n",
        "  service_high_degree = fuzz.interp_membership(\n",
        "      x_service, service_high, service_score)\n",
        "\n",
        "  food_low_degree = fuzz.interp_membership(x_food, food_low, food_score)\n",
        "  food_middle_degree = fuzz.interp_membership(x_food, food_middle, food_score)\n",
        "  food_high_degree = fuzz.interp_membership(x_food, food_high, food_score)\n",
        "\n",
        "  low_degree = np.fmax(service_low_degree, food_low_degree)\n",
        "  middle_degree = service_middle_degree\n",
        "  high_degree = np.fmax(service_high_degree, food_high_degree)\n",
        "\n",
        "  activation_low = np.fmin(low_degree, tip_low)\n",
        "  activation_middle = np.fmin(middle_degree, tip_middle)\n",
        "  activation_high = np.fmin(high_degree, tip_high)\n",
        "\n",
        "  aggregated = np.fmax(\n",
        "      activation_low,\n",
        "      np.fmax(activation_middle, activation_high))\n",
        "\n",
        "  tip_value = fuzz.defuzz(x_tip, aggregated, 'centroid')\n",
        "  return tip_value"
      ],
      "execution_count": 3,
      "outputs": []
    },
    {
      "cell_type": "code",
      "metadata": {
        "colab": {
          "base_uri": "https://localhost:8080/"
        },
        "id": "mlAA5zacALE2",
        "outputId": "48388948-15eb-44d1-b150-b747d2f81280"
      },
      "source": [
        "print( findTipUsingMamdani( service_score = 9.5, food_score = 4.0) )"
      ],
      "execution_count": 4,
      "outputs": [
        {
          "output_type": "stream",
          "text": [
            "18.389729481889038\n"
          ],
          "name": "stdout"
        }
      ]
    },
    {
      "cell_type": "markdown",
      "metadata": {
        "id": "xiJ5vBDpDPCK"
      },
      "source": [
        "## Sugeno Method"
      ]
    },
    {
      "cell_type": "code",
      "metadata": {
        "id": "h5cqx7769pGe"
      },
      "source": [
        "def findTipUsingSugeno( service_score, food_score):\n",
        "  x_service = np.arange(0, 10.01, 0.5)\n",
        "  x_food = np.arange(0, 10.01, 0.5)\n",
        "  x_tip = np.arange(0, 25.01, 1.0)\n",
        "\n",
        "  service_low = fuzz.trimf(x_service, [0, 0, 5])\n",
        "  service_middle = fuzz.trimf(x_service, [0, 5, 10])\n",
        "  service_high = fuzz.trimf(x_service, [5, 10, 10])\n",
        "\n",
        "  food_low = fuzz.zmf(x_food, 0, 5)\n",
        "  food_middle = fuzz.pimf(x_food, 0, 4, 5, 10)\n",
        "  food_high = fuzz.smf(x_food, 5, 10)\n",
        "\n",
        "  f, s = np.meshgrid(x_food, x_service, indexing=\"ij\")\n",
        "  tip_low_grid = 5.0 + s * 0.2 + f * 0.2\n",
        "  tip_middle_grid = 5.0 + s * 0.5 + f * 0.5\n",
        "  tip_high_grid = 5.0 + s + f\n",
        "\n",
        "  service_low_degree = fuzz.interp_membership(\n",
        "      x_service, service_low, service_score)\n",
        "  service_middle_degree = fuzz.interp_membership(\n",
        "      x_service, service_middle, service_score)\n",
        "  service_high_degree = fuzz.interp_membership(\n",
        "      x_service, service_high, service_score)\n",
        "\n",
        "  food_low_degree = fuzz.interp_membership(x_food, food_low, food_score)\n",
        "  food_middle_degree = fuzz.interp_membership(x_food, food_middle, food_score)\n",
        "  food_high_degree = fuzz.interp_membership(x_food, food_high, food_score)\n",
        "\n",
        "  low_degree = np.fmax(service_low_degree, food_low_degree)\n",
        "  middle_degree = service_middle_degree\n",
        "  high_degree = np.fmax(service_high_degree, food_high_degree)\n",
        "\n",
        "  w1 = low_degree\n",
        "  w2 = middle_degree\n",
        "  w3 = high_degree\n",
        "\n",
        "  z1 = 5.0 + 0.2 * food_score + 0.2 * service_score\n",
        "  z2 = 5.0 + 0.5 * food_score + 0.5 * service_score\n",
        "  z3 = 5 + 1.0 * food_score + 1.0 * service_score\n",
        "  tip_value = (w1 * z1 + w2 * z2 + w3 * z3) / (w1 + w2 + w3)\n",
        "  return tip_value\n"
      ],
      "execution_count": 5,
      "outputs": []
    },
    {
      "cell_type": "code",
      "metadata": {
        "colab": {
          "base_uri": "https://localhost:8080/"
        },
        "id": "5_7ebcqQBceX",
        "outputId": "a5220411-3c3c-4ffd-c657-be8f0901e3e2"
      },
      "source": [
        "print( findTipUsingSugeno( service_score = 9.5, food_score = 4.0) )"
      ],
      "execution_count": 6,
      "outputs": [
        {
          "output_type": "stream",
          "text": [
            "17.075000000000003\n"
          ],
          "name": "stdout"
        }
      ]
    },
    {
      "cell_type": "markdown",
      "metadata": {
        "id": "XeLOdYFuDS56"
      },
      "source": [
        "References:\n",
        "1. https://functionbay.com/documentation/onlinehelp/default.htm#!Documents/introductiontothefisfileformat.htm\n",
        "2. https://github.com/caigen/scikit-fuzzy-examples\n",
        "3. https://thesocialcomment.com/project/full/Fuzzy-Control-Systems--The-Tipping-Problem?pid=5e0b52a22a37d20505da2a49"
      ]
    }
  ]
}