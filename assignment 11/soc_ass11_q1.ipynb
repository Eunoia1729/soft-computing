{
  "nbformat": 4,
  "nbformat_minor": 0,
  "metadata": {
    "colab": {
      "name": "soc_ass11_q1.ipynb",
      "provenance": []
    },
    "kernelspec": {
      "name": "python3",
      "display_name": "Python 3"
    },
    "language_info": {
      "name": "python"
    }
  },
  "cells": [
    {
      "cell_type": "markdown",
      "metadata": {
        "id": "zMSKiDi1D1wT"
      },
      "source": [
        "# Question - 1 : Arithmetic Operations on Fuzzy Numbers"
      ]
    },
    {
      "cell_type": "markdown",
      "metadata": {
        "id": "AxJKjKOynYdY"
      },
      "source": [
        "Let the universe of discourse, X be [-100,100] and the fuzzy numbers be represented as [ [x_A, u(x_A)], [x_B, u(x_B)], ...]"
      ]
    },
    {
      "cell_type": "code",
      "metadata": {
        "id": "XODwIu7EjTtH"
      },
      "source": [
        "# Let A and B be two fuzzy numbers on which operations will be performed.\n",
        "A = [[1, 0.3], [2, 0.6], [3, 1], [4, 0.7], [5, 0.2]]\n",
        "B = [[10, 0.5], [11, 1], [12, 0.5]]"
      ],
      "execution_count": 1,
      "outputs": []
    },
    {
      "cell_type": "markdown",
      "metadata": {
        "id": "rV_k_07Nn6pU"
      },
      "source": [
        "## Addition"
      ]
    },
    {
      "cell_type": "code",
      "metadata": {
        "id": "QZRUSR-TioOw"
      },
      "source": [
        "def addFuzzy(A, B):\n",
        "  result = {}\n",
        "  for key1, val1 in A:\n",
        "    for key2, val2 in B:\n",
        "      new_key = key1 + key2\n",
        "      result[new_key] = max(min(val1, val2), result.get(new_key, 0))\n",
        "  result_list = []\n",
        "  for key, val in result.items():\n",
        "    result_list.append([key, val])\n",
        "  return result_list"
      ],
      "execution_count": 2,
      "outputs": []
    },
    {
      "cell_type": "code",
      "metadata": {
        "colab": {
          "base_uri": "https://localhost:8080/"
        },
        "id": "Bw52SZ2HjVk7",
        "outputId": "d06f9c9c-5d51-49fc-fcc5-00143c747e9a"
      },
      "source": [
        "print( addFuzzy(A, B) )"
      ],
      "execution_count": 3,
      "outputs": [
        {
          "output_type": "stream",
          "text": [
            "[[11, 0.3], [12, 0.5], [13, 0.6], [14, 1], [15, 0.7], [16, 0.5], [17, 0.2]]\n"
          ],
          "name": "stdout"
        }
      ]
    },
    {
      "cell_type": "markdown",
      "metadata": {
        "id": "6oJ8gC_Nn8lW"
      },
      "source": [
        "## Subtraction"
      ]
    },
    {
      "cell_type": "code",
      "metadata": {
        "id": "VI7dXXIOlaNq"
      },
      "source": [
        "def subtractFuzzy(A, B):\n",
        "  result = {}\n",
        "  for key1, val1 in A:\n",
        "    for key2, val2 in B:\n",
        "      new_key = key1 - key2\n",
        "      result[new_key] = max(min(val1, val2), result.get(new_key, 0))\n",
        "  result_list = []\n",
        "  for key, val in result.items():\n",
        "    result_list.append([key, val])\n",
        "  return result_list"
      ],
      "execution_count": 4,
      "outputs": []
    },
    {
      "cell_type": "code",
      "metadata": {
        "colab": {
          "base_uri": "https://localhost:8080/"
        },
        "id": "PE3ptLdXlaNr",
        "outputId": "3d342bfe-a9a5-4545-df4c-108ce01890cf"
      },
      "source": [
        "print( subtractFuzzy(A, B) )"
      ],
      "execution_count": 5,
      "outputs": [
        {
          "output_type": "stream",
          "text": [
            "[[-9, 0.6], [-10, 0.5], [-11, 0.3], [-8, 1], [-7, 0.7], [-6, 0.5], [-5, 0.2]]\n"
          ],
          "name": "stdout"
        }
      ]
    },
    {
      "cell_type": "markdown",
      "metadata": {
        "id": "UUdsccPEn_Io"
      },
      "source": [
        "## Multiplication"
      ]
    },
    {
      "cell_type": "code",
      "metadata": {
        "id": "U6qAHHTelaUQ"
      },
      "source": [
        "def multiplyFuzzy(A, B):\n",
        "  result = {}\n",
        "  for key1, val1 in A:\n",
        "    for key2, val2 in B:\n",
        "      new_key = key1 * key2\n",
        "      result[new_key] = max(min(val1, val2), result.get(new_key, 0))\n",
        "  result_list = []\n",
        "  for key, val in result.items():\n",
        "    result_list.append([key, val])\n",
        "  return result_list"
      ],
      "execution_count": 6,
      "outputs": []
    },
    {
      "cell_type": "code",
      "metadata": {
        "colab": {
          "base_uri": "https://localhost:8080/"
        },
        "id": "vGtJVf43laUR",
        "outputId": "2b3ea727-707e-4808-e4e1-355877694d74"
      },
      "source": [
        "print( multiplyFuzzy(A, B) )"
      ],
      "execution_count": 7,
      "outputs": [
        {
          "output_type": "stream",
          "text": [
            "[[10, 0.3], [11, 0.3], [12, 0.3], [20, 0.5], [22, 0.6], [24, 0.5], [30, 0.5], [33, 1], [36, 0.5], [40, 0.5], [44, 0.7], [48, 0.5], [50, 0.2], [55, 0.2], [60, 0.2]]\n"
          ],
          "name": "stdout"
        }
      ]
    },
    {
      "cell_type": "markdown",
      "metadata": {
        "id": "0YP7npkkoBNX"
      },
      "source": [
        "## Division"
      ]
    },
    {
      "cell_type": "code",
      "metadata": {
        "id": "dLQ19NiyladV"
      },
      "source": [
        "def divideFuzzy(A, B):\n",
        "  result = {}\n",
        "  for key1, val1 in A:\n",
        "    for key2, val2 in B:\n",
        "      new_key = key1 / key2\n",
        "      # print(key1, key2, new_key)\n",
        "      result[new_key] = max(min(val1, val2), result.get(new_key, 0))\n",
        "  result_list = []\n",
        "  for key, val in result.items():\n",
        "    result_list.append([round(key, 3), val])\n",
        "  return result_list"
      ],
      "execution_count": 8,
      "outputs": []
    },
    {
      "cell_type": "code",
      "metadata": {
        "colab": {
          "base_uri": "https://localhost:8080/"
        },
        "id": "bDSn7IEXlada",
        "outputId": "850ddf1f-b01f-4099-e1dd-b42bb51d0a50"
      },
      "source": [
        "print( divideFuzzy(A, B) )"
      ],
      "execution_count": 9,
      "outputs": [
        {
          "output_type": "stream",
          "text": [
            "[[0.1, 0.3], [0.091, 0.3], [0.083, 0.3], [0.2, 0.5], [0.182, 0.6], [0.167, 0.5], [0.3, 0.5], [0.273, 1], [0.25, 0.5], [0.4, 0.5], [0.364, 0.7], [0.333, 0.5], [0.5, 0.2], [0.455, 0.2], [0.417, 0.2]]\n"
          ],
          "name": "stdout"
        }
      ]
    }
  ]
}