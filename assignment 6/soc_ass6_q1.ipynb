{
  "nbformat": 4,
  "nbformat_minor": 0,
  "metadata": {
    "kernelspec": {
      "display_name": "Python 3",
      "language": "python",
      "name": "python3"
    },
    "language_info": {
      "codemirror_mode": {
        "name": "ipython",
        "version": 3
      },
      "file_extension": ".py",
      "mimetype": "text/x-python",
      "name": "python",
      "nbconvert_exporter": "python",
      "pygments_lexer": "ipython3",
      "version": "3.7.6"
    },
    "colab": {
      "name": "soc_ass6_q1.ipynb",
      "provenance": []
    }
  },
  "cells": [
    {
      "cell_type": "markdown",
      "metadata": {
        "id": "EhynGJc7nJMb"
      },
      "source": [
        "## Imports"
      ]
    },
    {
      "cell_type": "code",
      "metadata": {
        "id": "05a9YMuvNq_c"
      },
      "source": [
        "import numpy as np\n",
        "import matplotlib.pyplot as plt"
      ],
      "execution_count": 1,
      "outputs": []
    },
    {
      "cell_type": "markdown",
      "metadata": {
        "id": "AjFT5igInH-N"
      },
      "source": [
        "## Dataset"
      ]
    },
    {
      "cell_type": "code",
      "metadata": {
        "id": "7X26f_DjNrAK"
      },
      "source": [
        "X = np.array([\n",
        "      [0, 0],\n",
        "      [0, 1],\n",
        "      [1, 0],\n",
        "      [1, 1],\n",
        "  ])\n",
        "\n",
        "Y = np.array([\n",
        "                  1,\n",
        "                  0,\n",
        "                  0,\n",
        "                  1\n",
        "                ])"
      ],
      "execution_count": 2,
      "outputs": []
    },
    {
      "cell_type": "markdown",
      "metadata": {
        "id": "atZXI2upnLsP"
      },
      "source": [
        "## Implementation"
      ]
    },
    {
      "cell_type": "code",
      "metadata": {
        "id": "WVi0lQqhhuKn"
      },
      "source": [
        "class FFNN:\n",
        "  def __init__(self, n_input, n_output , h = [2]):\n",
        "    self.nx = n_input\n",
        "    self.ny = n_output\n",
        "    self.nh = len(h)\n",
        "    self.lens = [self.nx] + h + [self.ny]\n",
        "    self.fake_input = np.array([[1]])\n",
        "\n",
        "    self.W = {}\n",
        "    for i in range(1, self.nh + 2):\n",
        "      self.W[i] = np.random.randn(self.lens[i-1] + 1, self.lens[i])\n",
        "  \n",
        "  def sigmoid(self, z):\n",
        "    return 1.0/(1.0 + np.exp(-z))\n",
        "  \n",
        "  def loss(self,label,pred):\n",
        "    return np.square(label - pred).sum() / 2\n",
        "  \n",
        "  def sigder(self, x):\n",
        "    return x*(1 - x)  \n",
        "  \n",
        "  def forward(self, x):\n",
        "    self.A = {}\n",
        "    self.Z = {}\n",
        "    self.Z[0] = np.resize(x, (len(x), 1))\n",
        "    for i in range(1, self.nh + 2):\n",
        "      self.Z[i-1] = np.vstack((self.fake_input, self.Z[i-1]))\n",
        "      self.A[i] = np.matmul( self.W[i].T, self.Z[i-1] ) \n",
        "      self.Z[i] = self.sigmoid(self.A[i])\n",
        "    \n",
        "    self.Z[self.nh + 1] = self.sigmoid(self.A[self.nh+1])\n",
        "    \n",
        "    return self.Z[self.nh + 1]\n",
        "\n",
        "  def grad(self, train_x, train_y):\n",
        "    self.forward(train_x) \n",
        "    self.dell = {}  \n",
        "    self.dW = {}\n",
        "    \n",
        "    self.dell[self.nh + 1] = self.Z[self.nh + 1] - train_y \n",
        "    self.dW[self.nh + 1] = np.matmul(self.Z[self.nh], self.dell[self.nh + 1].T) \n",
        "\n",
        "    for i in range(self.nh, 0, -1): \n",
        "      tmp = np.matmul(self.W[i+1][1:,:], self.dell[i+1])\n",
        "      self.dell[i] =  tmp * self.sigder(self.Z[i][1:])\n",
        "      self.dW[i] =  np.matmul(self.Z[i - 1], self.dell[i].T)\n",
        "\n",
        "  def predict(self, X):\n",
        "    Y_pred = []\n",
        "    for x in X:\n",
        "      y_pred = self.forward(x)\n",
        "      Y_pred.append(y_pred)\n",
        "    return np.array(Y_pred).squeeze()\n",
        "\n",
        "  def fit(self, X, Y, epochs=10, learning_rate=0.01, display_loss=False):      \n",
        "\n",
        "    if display_loss:\n",
        "      loss = {}\n",
        "    \n",
        "    for epoch in range(epochs):\n",
        "      if epoch%10 == 0:\n",
        "        print(\"epoch: \"+str(epoch) +\" running.......\")\n",
        "      dW = {}\n",
        "      for i in range(1, self.nh+2):\n",
        "        dW[i] = np.zeros((1 + self.lens[i-1], self.lens[i]))\n",
        "      for x, y in zip(X, Y):\n",
        "        self.grad(np.asarray(x).T, np.asarray(y))\n",
        "        for i in range(1, self.nh+2):\n",
        "          self.W[i] -= learning_rate * self.dW[i] \n",
        "  \n",
        "      if display_loss:\n",
        "        Y_pred = self.predict(X)\n",
        "        loss[epoch] = self.loss(Y, Y_pred)\n",
        "        \n",
        "    if display_loss:\n",
        "      lists = sorted(loss.items())\n",
        "      x, y = zip(*lists)\n",
        "      plt.plot(x, y, 'r', label = 'Training error')\n",
        "      plt.xlabel('Epochs')\n",
        "      plt.ylabel('Loss')\n",
        "      plt.legend(loc=\"upper left\")\n",
        "      plt.show()\n",
        "\n",
        "def accuracy_score(Y_a, Y_t):\n",
        "  Y_a = (Y_a >= 0.5)*1\n",
        "  return np.mean( Y_t == Y_a)"
      ],
      "execution_count": 3,
      "outputs": []
    },
    {
      "cell_type": "code",
      "metadata": {
        "colab": {
          "base_uri": "https://localhost:8080/",
          "height": 644
        },
        "id": "K9TTYUoGQ1D_",
        "outputId": "dce9afaf-a06e-41ff-8f62-00947214eef8"
      },
      "source": [
        "ffsn_multi = FFNN(2,1,[3])\n",
        "X_train = X_val = X\n",
        "Y_train = Y_val = Y\n",
        "ffsn_multi.fit(X_train,Y_train, epochs=200, learning_rate=1, display_loss=True)\n",
        "\n",
        "Y_pred_train = ffsn_multi.predict(X_train)\n",
        "accuracy_train = accuracy_score(Y_pred_train, Y_train)\n",
        "print(f\"Accuracy : {round(accuracy_train*100, 4)}%\")"
      ],
      "execution_count": 4,
      "outputs": [
        {
          "output_type": "stream",
          "text": [
            "epoch: 0 running.......\n",
            "epoch: 10 running.......\n",
            "epoch: 20 running.......\n",
            "epoch: 30 running.......\n",
            "epoch: 40 running.......\n",
            "epoch: 50 running.......\n",
            "epoch: 60 running.......\n",
            "epoch: 70 running.......\n",
            "epoch: 80 running.......\n",
            "epoch: 90 running.......\n",
            "epoch: 100 running.......\n",
            "epoch: 110 running.......\n",
            "epoch: 120 running.......\n",
            "epoch: 130 running.......\n",
            "epoch: 140 running.......\n",
            "epoch: 150 running.......\n",
            "epoch: 160 running.......\n",
            "epoch: 170 running.......\n",
            "epoch: 180 running.......\n",
            "epoch: 190 running.......\n"
          ],
          "name": "stdout"
        },
        {
          "output_type": "display_data",
          "data": {
            "image/png": "[encoded data removed]",
            "text/plain": [
              "<Figure size 432x288 with 1 Axes>"
            ]
          },
          "metadata": {
            "tags": [],
            "needs_background": "light"
          }
        },
        {
          "output_type": "stream",
          "text": [
            "Accuracy : 100.0%\n"
          ],
          "name": "stdout"
        }
      ]
    },
    {
      "cell_type": "code",
      "metadata": {
        "colab": {
          "base_uri": "https://localhost:8080/"
        },
        "id": "BNxk0GuslIMy",
        "outputId": "9a789275-fc13-4f08-a68e-66a2daa503fa"
      },
      "source": [
        "print(\"Learning Weights:\")\n",
        "print(ffsn_multi.W)"
      ],
      "execution_count": 6,
      "outputs": [
        {
          "output_type": "stream",
          "text": [
            "Learning Weights:\n",
            "{1: array([[-2.01332862, -3.57299734, -3.00320181],\n",
            "       [-2.66797819, -6.62405415,  5.54610782],\n",
            "       [ 1.53429601,  6.39263197, -5.94144192]]), 2: array([[ 4.52517064],\n",
            "       [-0.62786608],\n",
            "       [-8.98888394],\n",
            "       [-9.20290478]])}\n"
          ],
          "name": "stdout"
        }
      ]
    }
  ]
}