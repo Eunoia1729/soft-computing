{
  "nbformat": 4,
  "nbformat_minor": 0,
  "metadata": {
    "kernelspec": {
      "display_name": "Python 3",
      "language": "python",
      "name": "python3"
    },
    "language_info": {
      "codemirror_mode": {
        "name": "ipython",
        "version": 3
      },
      "file_extension": ".py",
      "mimetype": "text/x-python",
      "name": "python",
      "nbconvert_exporter": "python",
      "pygments_lexer": "ipython3",
      "version": "3.7.6"
    },
    "colab": {
      "name": "soc_ass6_q2.ipynb",
      "provenance": [],
      "collapsed_sections": []
    }
  },
  "cells": [
    {
      "cell_type": "markdown",
      "metadata": {
        "id": "-WnfRtzILTm2"
      },
      "source": [
        "## Imports"
      ]
    },
    {
      "cell_type": "code",
      "metadata": {
        "id": "UtZzmzhF3rR_"
      },
      "source": [
        "import numpy as np"
      ],
      "execution_count": 83,
      "outputs": []
    },
    {
      "cell_type": "markdown",
      "metadata": {
        "id": "KulZTwsg3rSG"
      },
      "source": [
        "### Implementation"
      ]
    },
    {
      "cell_type": "code",
      "metadata": {
        "id": "qwnxI3Za3rSL"
      },
      "source": [
        "class SingleNeuronPerceptron:\n",
        "    W = None\n",
        "    Z = None\n",
        "    n_epochs = None\n",
        "    alpha = None\n",
        "    def __init__(self, n_input, n_epochs = 20, alpha = 1):\n",
        "        self.W = np.random.rand(n_input + 1)\n",
        "        self.Z = np.zeros(n_input + 1)\n",
        "        self.n_epochs = n_epochs\n",
        "        self.alpha = alpha\n",
        "    \n",
        "    def predict(self, X):\n",
        "        X_new = np.insert(X, 0, 1)\n",
        "        z = np.dot(self.W.T, X_new)     \n",
        "        a = self.hardLim(z)\n",
        "        return a\n",
        " \n",
        "    def fit(self, X, Y):\n",
        "        n = X.shape[0]\n",
        "        assert( X.shape[0] == Y.shape[0])\n",
        "        for epoch in range(self.n_epochs):\n",
        "            for i in range(n):\n",
        "                y = self.predict(X[i])\n",
        "                e = Y[i] - y\n",
        "                self.W = self.W + self.alpha * e * np.insert(X[i], 0, 1)\n",
        "\n",
        "    def getAccuracy(self, X, Y):\n",
        "      freq = 0\n",
        "      n = X.shape[0]\n",
        "      for i in range(n):\n",
        "          y = self.predict(X[i])\n",
        "          freq += (y == Y[i])\n",
        "      return freq * 100/n\n",
        "\n",
        "    def hardLim(self, z):\n",
        "        return z >= 0"
      ],
      "execution_count": 84,
      "outputs": []
    },
    {
      "cell_type": "markdown",
      "metadata": {
        "id": "lJXQt0aRKwTO"
      },
      "source": [
        "## Dataset"
      ]
    },
    {
      "cell_type": "code",
      "metadata": {
        "id": "3U0TbD1pEgmg"
      },
      "source": [
        "X = np.array([\n",
        "      [0, 0, 0],\n",
        "      [0, 1, 0],\n",
        "      [1, 0, 0],\n",
        "      [1, 1, 0],\n",
        "      [0, 0, 1],\n",
        "      [0, 1, 1],\n",
        "      [1, 0, 1],\n",
        "      [1, 1, 1],\n",
        "  ])\n",
        "\n",
        "Y_and = np.array([\n",
        "                  0,\n",
        "                  0,\n",
        "                  0,\n",
        "                  0,\n",
        "                  0,\n",
        "                  0,\n",
        "                  0,\n",
        "                  1\n",
        "          ])\n",
        "\n",
        "Y_or = np.array([\n",
        "                  0,\n",
        "                  0,\n",
        "                  0,\n",
        "                  0,\n",
        "                  0,\n",
        "                  0,\n",
        "                  0,\n",
        "                  1\n",
        "          ])\n",
        "\n",
        "Y_xor = np.array([\n",
        "                  0,\n",
        "                  1,\n",
        "                  1,\n",
        "                  0,\n",
        "                  1,\n",
        "                  0,\n",
        "                  0,\n",
        "                  1\n",
        "          ])\n",
        "\n",
        "Y_nand = np.array([\n",
        "                  1,\n",
        "                  1,\n",
        "                  1,\n",
        "                  1,\n",
        "                  1,\n",
        "                  1,\n",
        "                  1,\n",
        "                  0\n",
        "          ])"
      ],
      "execution_count": 85,
      "outputs": []
    },
    {
      "cell_type": "markdown",
      "metadata": {
        "id": "Yk5OcRCvJF2r"
      },
      "source": [
        "## AND Perceptron"
      ]
    },
    {
      "cell_type": "code",
      "metadata": {
        "colab": {
          "base_uri": "https://localhost:8080/"
        },
        "id": "KNjU7Phl3rSP",
        "outputId": "9f2dc26b-6dad-42c1-dae3-524a326eea74"
      },
      "source": [
        "and_perceptron = SingleNeuronPerceptron(n_input = 3,n_epochs = 100)\n",
        "and_perceptron.fit(X, Y_and)\n",
        "print(f\"Learned bias and Weights : {and_perceptron.W}\")\n",
        "print()\n",
        "print(\"Examples:\")\n",
        "print(f\"Input: {[1,1,1]} Output: {and_perceptron.predict([1,1,1])}\")\n",
        "print(f\"Input: {[1,0,1]} Output: {and_perceptron.predict([1,0,1])}\")\n",
        "print()\n",
        "print(f\"Accuracy for AND Perceptron = {and_perceptron.getAccuracy(X, Y_and)}%\")"
      ],
      "execution_count": 94,
      "outputs": [
        {
          "output_type": "stream",
          "text": [
            "Learned bias and Weights : [-0.7650865   0.32257824  0.31970011  0.27666122]\n",
            "\n",
            "Examples:\n",
            "Input: [1, 1, 1] Output: True\n",
            "Input: [1, 0, 1] Output: False\n",
            "\n",
            "Accuracy for AND Perceptron = 100.0%\n"
          ],
          "name": "stdout"
        }
      ]
    },
    {
      "cell_type": "markdown",
      "metadata": {
        "id": "MYtN-vid3rSQ"
      },
      "source": [
        "###  OR Perceptron"
      ]
    },
    {
      "cell_type": "code",
      "metadata": {
        "colab": {
          "base_uri": "https://localhost:8080/"
        },
        "id": "3XFMoPfS3rSS",
        "outputId": "9d3a5290-a935-4b2b-90f1-ba64b7424638"
      },
      "source": [
        "or_perceptron = SingleNeuronPerceptron(n_input = 3,n_epochs = 100, alpha = 1)\n",
        "or_perceptron.fit(X, Y_or)\n",
        "print(f\"Learned bias and Weights : {or_perceptron.W}\")\n",
        "print()\n",
        "print(\"Examples:\")\n",
        "print(f\"Input: {[0,0,0]} Output: {or_perceptron.predict([1,1,1])}\")\n",
        "print(f\"Input: {[1,0,1]} Output: {or_perceptron.predict([1,0,1])}\")\n",
        "print()\n",
        "print(f\"Accuracy for OR Perceptron = {or_perceptron.getAccuracy(X, Y_or)}%\")"
      ],
      "execution_count": 92,
      "outputs": [
        {
          "output_type": "stream",
          "text": [
            "Learned bias and Weights : [-5.81218318  2.22881027  1.4694658   2.68562228]\n",
            "\n",
            "Examples:\n",
            "Input: [0, 0, 0] Output: True\n",
            "Input: [1, 0, 1] Output: False\n",
            "\n",
            "Accuracy for OR Perceptron = 100.0%\n"
          ],
          "name": "stdout"
        }
      ]
    },
    {
      "cell_type": "markdown",
      "metadata": {
        "id": "oi-JrzfHKKFi"
      },
      "source": [
        " ## XOR Perceptron"
      ]
    },
    {
      "cell_type": "code",
      "metadata": {
        "colab": {
          "base_uri": "https://localhost:8080/"
        },
        "id": "UycThRy1KKF1",
        "outputId": "86e13076-bc7a-41bb-b539-21630106055b"
      },
      "source": [
        "xor_perceptron = SingleNeuronPerceptron(n_input = 3,n_epochs = 100)\n",
        "xor_perceptron.fit(X, Y_xor)\n",
        "print(f\"Learned bias and Weights : {xor_perceptron.W}\")\n",
        "print()\n",
        "print(\"Examples:\")\n",
        "print(f\"Input: {[0,0,0]} Output: {xor_perceptron.predict([1,1,1])}\")\n",
        "print(f\"Input: {[1,0,1]} Output: {xor_perceptron.predict([1,0,1])}\")\n",
        "print()\n",
        "print(f\"Accuracy for XOR Perceptron = {xor_perceptron.getAccuracy(X, Y_xor)}%\")"
      ],
      "execution_count": 93,
      "outputs": [
        {
          "output_type": "stream",
          "text": [
            "Learned bias and Weights : [-0.52784115  0.92686412  0.08209821  1.30888114]\n",
            "\n",
            "Examples:\n",
            "Input: [0, 0, 0] Output: True\n",
            "Input: [1, 0, 1] Output: True\n",
            "\n",
            "Accuracy for XOR Perceptron = 50.0%\n"
          ],
          "name": "stdout"
        }
      ]
    },
    {
      "cell_type": "markdown",
      "metadata": {
        "id": "RUcTbM3zKKkj"
      },
      "source": [
        "###  NAND Perceptron"
      ]
    },
    {
      "cell_type": "code",
      "metadata": {
        "colab": {
          "base_uri": "https://localhost:8080/"
        },
        "id": "LxZsN8epKKkp",
        "outputId": "f7c97b8d-e3a3-4534-96c9-8ee14c91938f"
      },
      "source": [
        "nand_perceptron = SingleNeuronPerceptron(n_input = 3,n_epochs = 100, alpha = 1)\n",
        "nand_perceptron.fit(X, Y_nand)\n",
        "print(f\"Learned bias and Weights : {nand_perceptron.W}\")\n",
        "print()\n",
        "print(\"Examples:\")\n",
        "print(f\"Input: {[0,0,0]} Output: {nand_perceptron.predict([1,1,1])}\")\n",
        "print(f\"Input: {[1,0,1]} Output: {nand_perceptron.predict([1,0,1])}\")\n",
        "print()\n",
        "print(f\"Accuracy for NAND Perceptron = {nand_perceptron.getAccuracy(X, Y_nand)}%\")"
      ],
      "execution_count": 95,
      "outputs": [
        {
          "output_type": "stream",
          "text": [
            "Learned bias and Weights : [ 3.99327012 -1.16085741 -1.04369245 -2.44219489]\n",
            "\n",
            "Examples:\n",
            "Input: [0, 0, 0] Output: False\n",
            "Input: [1, 0, 1] Output: True\n",
            "\n",
            "Accuracy for NAND Perceptron = 100.0%\n"
          ],
          "name": "stdout"
        }
      ]
    }
  ]
}