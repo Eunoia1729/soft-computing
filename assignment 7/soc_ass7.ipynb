{
  "nbformat": 4,
  "nbformat_minor": 0,
  "metadata": {
    "colab": {
      "name": "soc_ass7.ipynb",
      "provenance": []
    },
    "kernelspec": {
      "name": "python3",
      "display_name": "Python 3"
    },
    "language_info": {
      "name": "python"
    }
  },
  "cells": [
    {
      "cell_type": "markdown",
      "metadata": {
        "id": "hTKEFs93uVLS"
      },
      "source": [
        "## Imports"
      ]
    },
    {
      "cell_type": "code",
      "metadata": {
        "id": "6Xz5izM3fXsm"
      },
      "source": [
        "import pandas as pd\n",
        "import numpy as np"
      ],
      "execution_count": 85,
      "outputs": []
    },
    {
      "cell_type": "markdown",
      "metadata": {
        "id": "OcS2uCZ_uXxv"
      },
      "source": [
        "## Data preprocessing"
      ]
    },
    {
      "cell_type": "code",
      "metadata": {
        "colab": {
          "base_uri": "https://localhost:8080/",
          "height": 424
        },
        "id": "M0Qoqm79ejHV",
        "outputId": "b03a8b2c-d82e-4ac6-ecc1-3cb77c952aef"
      },
      "source": [
        "df = pd.read_csv('knn_exam_results.csv', sep=',',header=None)\n",
        "df"
      ],
      "execution_count": 86,
      "outputs": [
        {
          "output_type": "execute_result",
          "data": {
            "text/html": [
              "<div>\n",
              "<style scoped>\n",
              "    .dataframe tbody tr th:only-of-type {\n",
              "        vertical-align: middle;\n",
              "    }\n",
              "\n",
              "    .dataframe tbody tr th {\n",
              "        vertical-align: top;\n",
              "    }\n",
              "\n",
              "    .dataframe thead th {\n",
              "        text-align: right;\n",
              "    }\n",
              "</style>\n",
              "<table border=\"1\" class=\"dataframe\">\n",
              "  <thead>\n",
              "    <tr style=\"text-align: right;\">\n",
              "      <th></th>\n",
              "      <th>0</th>\n",
              "      <th>1</th>\n",
              "      <th>2</th>\n",
              "    </tr>\n",
              "  </thead>\n",
              "  <tbody>\n",
              "    <tr>\n",
              "      <th>0</th>\n",
              "      <td>34.623660</td>\n",
              "      <td>78.024693</td>\n",
              "      <td>0</td>\n",
              "    </tr>\n",
              "    <tr>\n",
              "      <th>1</th>\n",
              "      <td>30.286711</td>\n",
              "      <td>43.894998</td>\n",
              "      <td>0</td>\n",
              "    </tr>\n",
              "    <tr>\n",
              "      <th>2</th>\n",
              "      <td>35.847409</td>\n",
              "      <td>72.902198</td>\n",
              "      <td>0</td>\n",
              "    </tr>\n",
              "    <tr>\n",
              "      <th>3</th>\n",
              "      <td>60.182599</td>\n",
              "      <td>86.308552</td>\n",
              "      <td>1</td>\n",
              "    </tr>\n",
              "    <tr>\n",
              "      <th>4</th>\n",
              "      <td>79.032736</td>\n",
              "      <td>75.344376</td>\n",
              "      <td>1</td>\n",
              "    </tr>\n",
              "    <tr>\n",
              "      <th>...</th>\n",
              "      <td>...</td>\n",
              "      <td>...</td>\n",
              "      <td>...</td>\n",
              "    </tr>\n",
              "    <tr>\n",
              "      <th>95</th>\n",
              "      <td>83.489163</td>\n",
              "      <td>48.380286</td>\n",
              "      <td>1</td>\n",
              "    </tr>\n",
              "    <tr>\n",
              "      <th>96</th>\n",
              "      <td>42.261701</td>\n",
              "      <td>87.103851</td>\n",
              "      <td>1</td>\n",
              "    </tr>\n",
              "    <tr>\n",
              "      <th>97</th>\n",
              "      <td>99.315009</td>\n",
              "      <td>68.775409</td>\n",
              "      <td>1</td>\n",
              "    </tr>\n",
              "    <tr>\n",
              "      <th>98</th>\n",
              "      <td>55.340018</td>\n",
              "      <td>64.931938</td>\n",
              "      <td>1</td>\n",
              "    </tr>\n",
              "    <tr>\n",
              "      <th>99</th>\n",
              "      <td>74.775893</td>\n",
              "      <td>89.529813</td>\n",
              "      <td>1</td>\n",
              "    </tr>\n",
              "  </tbody>\n",
              "</table>\n",
              "<p>100 rows × 3 columns</p>\n",
              "</div>"
            ],
            "text/plain": [
              "            0          1  2\n",
              "0   34.623660  78.024693  0\n",
              "1   30.286711  43.894998  0\n",
              "2   35.847409  72.902198  0\n",
              "3   60.182599  86.308552  1\n",
              "4   79.032736  75.344376  1\n",
              "..        ...        ... ..\n",
              "95  83.489163  48.380286  1\n",
              "96  42.261701  87.103851  1\n",
              "97  99.315009  68.775409  1\n",
              "98  55.340018  64.931938  1\n",
              "99  74.775893  89.529813  1\n",
              "\n",
              "[100 rows x 3 columns]"
            ]
          },
          "metadata": {
            "tags": []
          },
          "execution_count": 86
        }
      ]
    },
    {
      "cell_type": "code",
      "metadata": {
        "id": "-X0Jcgmvi_Q5"
      },
      "source": [
        "D = df.values\n",
        "X_train, Y_train = D[60:90,0:2], D[60:90,2:]\n",
        "X_test, Y_test = D[90:100,0:2], D[90:100,2:]"
      ],
      "execution_count": 87,
      "outputs": []
    },
    {
      "cell_type": "markdown",
      "metadata": {
        "id": "UHR2axriudUb"
      },
      "source": [
        "## KNN Classification"
      ]
    },
    {
      "cell_type": "code",
      "metadata": {
        "id": "auszPshpfvtE"
      },
      "source": [
        "class KNNClassifier:\n",
        "  k = None\n",
        "  X = None\n",
        "  Y = None\n",
        "  def __init__(self, X, Y, k):\n",
        "    self.k = k\n",
        "    self.X = X\n",
        "    self.Y = Y\n",
        "\n",
        "  def getDistance(self, x1, x2):\n",
        "    return np.sqrt(np.square(x1 - x2).sum())\n",
        "  \n",
        "  def predict(self, X_test):\n",
        "    n = len(self.X)\n",
        "    heap = []\n",
        "    for i in range(n):\n",
        "      heap.append([self.getDistance(X_test, self.X[i]), int(self.Y[i]) ])\n",
        "    \n",
        "    heap.sort()\n",
        "    freq = {}\n",
        "    freq[0] = freq[1] = 0\n",
        "    for i in range(self.k):\n",
        "      freq[heap[i][1]] += 1\n",
        "    \n",
        "    return max(freq, key=freq.get)\n",
        "\n",
        "  def getAccuracy(self, X_test, Y_test):\n",
        "    n = len(X_test)\n",
        "    freq = 0\n",
        "    for i in range(n):\n",
        "      if self.predict(X_test[i]) == Y_test[i]:\n",
        "        freq += 1\n",
        "\n",
        "    return freq * 100 / n"
      ],
      "execution_count": 88,
      "outputs": []
    },
    {
      "cell_type": "markdown",
      "metadata": {
        "id": "t0ycf36TuGIm"
      },
      "source": [
        "### KNN Classifier for K = 3"
      ]
    },
    {
      "cell_type": "code",
      "metadata": {
        "colab": {
          "base_uri": "https://localhost:8080/"
        },
        "id": "Q_GVpeyipv58",
        "outputId": "daf5e146-817c-4e6a-f2f4-15c42ef1cd3c"
      },
      "source": [
        "knn_model = KNNClassifier(X_train, Y_train, 3)\n",
        "acc = knn_model.getAccuracy(X_test, Y_test)\n",
        "\n",
        "print('Examples:')\n",
        "print(f'(i)  Input : {X_test[7]}, Output : {int(Y_test[7])}, Predicted Output: {knn_model.predict(X_test[7])} ')\n",
        "print(f'(ii) Input : {X_test[2]}, Output : {int(Y_test[2])}, Predicted Output: {knn_model.predict(X_test[2])} ')\n",
        "print()\n",
        "print(f'Accuracy of KNN classifier model is {round(acc, 2)}%')"
      ],
      "execution_count": 89,
      "outputs": [
        {
          "output_type": "stream",
          "text": [
            "Examples:\n",
            "(i)  Input : [99.31500881 68.77540947], Output : 1, Predicted Output: 1 \n",
            "(ii) Input : [55.48216114 35.57070347], Output : 0, Predicted Output: 0 \n",
            "\n",
            "Accuracy of KNN classifier model is 80.0%\n"
          ],
          "name": "stdout"
        }
      ]
    },
    {
      "cell_type": "markdown",
      "metadata": {
        "id": "o_Kr930DuJM8"
      },
      "source": [
        "### KNN Classifier for K = 5"
      ]
    },
    {
      "cell_type": "code",
      "metadata": {
        "colab": {
          "base_uri": "https://localhost:8080/"
        },
        "id": "_uhuR6QXuJM-",
        "outputId": "c973139f-f6f5-435b-efb8-b2a03c3ba046"
      },
      "source": [
        "knn_model = KNNClassifier(X_train, Y_train, 5)\n",
        "acc = knn_model.getAccuracy(X_test, Y_test)\n",
        "\n",
        "print('Examples:')\n",
        "print(f'(i)  Input : {X_test[7]}, Output : {int(Y_test[7])}, Predicted Output: {knn_model.predict(X_test[7])} ')\n",
        "print(f'(ii) Input : {X_test[2]}, Output : {int(Y_test[2])}, Predicted Output: {knn_model.predict(X_test[2])} ')\n",
        "print()\n",
        "print(f'Accuracy of KNN classifier model is {round(acc, 2)}%')"
      ],
      "execution_count": 90,
      "outputs": [
        {
          "output_type": "stream",
          "text": [
            "Examples:\n",
            "(i)  Input : [99.31500881 68.77540947], Output : 1, Predicted Output: 1 \n",
            "(ii) Input : [55.48216114 35.57070347], Output : 0, Predicted Output: 0 \n",
            "\n",
            "Accuracy of KNN classifier model is 100.0%\n"
          ],
          "name": "stdout"
        }
      ]
    },
    {
      "cell_type": "markdown",
      "metadata": {
        "id": "7mwHmoUsutl1"
      },
      "source": [
        "## KNN Regression"
      ]
    },
    {
      "cell_type": "code",
      "metadata": {
        "id": "YhQZNsrButl8"
      },
      "source": [
        "class KNNRegressor:\n",
        "  k = None\n",
        "  X = None\n",
        "  Y = None\n",
        "  def __init__(self, X, Y, k):\n",
        "    self.k = k\n",
        "    self.X = X\n",
        "    self.Y = Y\n",
        "\n",
        "  def getDistance(self, x1, x2):\n",
        "    return np.sqrt(np.square(x1 - x2).sum())\n",
        "  \n",
        "  def predict(self, X_test):\n",
        "    n = len(self.X)\n",
        "    heap = []\n",
        "    for i in range(n):\n",
        "      heap.append([self.getDistance(X_test, self.X[i]), int(self.Y[i]) ])\n",
        "    \n",
        "    heap.sort()\n",
        "    freq = {}\n",
        "    freq[0] = freq[1] = 0\n",
        "    for i in range(self.k):\n",
        "      freq[heap[i][1]] += 1\n",
        "    \n",
        "    return freq[1]/self.k\n",
        "\n",
        "  def getAccuracy(self, X_test, Y_test):\n",
        "    n = len(X_test)\n",
        "    freq = 0\n",
        "    for i in range(n):\n",
        "      if abs(self.predict(X_test[i]) - Y_test[i]) < 0.5:\n",
        "        freq += 1\n",
        "\n",
        "    return freq * 100 / n"
      ],
      "execution_count": 91,
      "outputs": []
    },
    {
      "cell_type": "markdown",
      "metadata": {
        "id": "OCXCX8EivJz_"
      },
      "source": [
        "### KNN Regression for K = 3"
      ]
    },
    {
      "cell_type": "code",
      "metadata": {
        "colab": {
          "base_uri": "https://localhost:8080/"
        },
        "id": "i0tS_YrlvJ0A",
        "outputId": "1771e04f-ce8f-4c49-e89c-6273c475d99f"
      },
      "source": [
        "knn_model = KNNRegressor(X_train, Y_train, 3)\n",
        "acc = knn_model.getAccuracy(X_test, Y_test)\n",
        "\n",
        "print('Examples:')\n",
        "for i in range(10):\n",
        "  print(f'Input : {X_test[i]}, Output : {int(Y_test[i])}, Predicted Output: { round(knn_model.predict(X_test[i]), 2) } ')\n",
        "print()  \n",
        "print(f'Accuracy of KNN Regression model is {round(acc, 2)}%')"
      ],
      "execution_count": 92,
      "outputs": [
        {
          "output_type": "stream",
          "text": [
            "Examples:\n",
            "Input : [94.09433113 77.15910509], Output : 1, Predicted Output: 1.0 \n",
            "Input : [90.44855097 87.50879176], Output : 1, Predicted Output: 1.0 \n",
            "Input : [55.48216114 35.57070347], Output : 0, Predicted Output: 0.0 \n",
            "Input : [74.49269242 84.84513685], Output : 1, Predicted Output: 1.0 \n",
            "Input : [89.84580671 45.35828361], Output : 1, Predicted Output: 0.33 \n",
            "Input : [83.48916274 48.3802858 ], Output : 1, Predicted Output: 0.33 \n",
            "Input : [42.26170081 87.10385094], Output : 1, Predicted Output: 0.67 \n",
            "Input : [99.31500881 68.77540947], Output : 1, Predicted Output: 1.0 \n",
            "Input : [55.34001756 64.93193801], Output : 1, Predicted Output: 0.67 \n",
            "Input : [74.775893  89.5298129], Output : 1, Predicted Output: 1.0 \n",
            "\n",
            "Accuracy of KNN Regression model is 80.0%\n"
          ],
          "name": "stdout"
        }
      ]
    },
    {
      "cell_type": "markdown",
      "metadata": {
        "id": "5TQXj9YevJ0E"
      },
      "source": [
        "### KNN Regression for K = 5"
      ]
    },
    {
      "cell_type": "code",
      "metadata": {
        "colab": {
          "base_uri": "https://localhost:8080/"
        },
        "id": "odfKSfpvvJ0F",
        "outputId": "21ac9755-9139-4bbc-891f-144f21529a3f"
      },
      "source": [
        "knn_model = KNNRegressor(X_train, Y_train, 5)\n",
        "acc = knn_model.getAccuracy(X_test, Y_test)\n",
        "\n",
        "print('Examples:')\n",
        "for i in range(10):\n",
        "  print(f'Input : {X_test[i]}, Output : {int(Y_test[i])}, Predicted Output: { round(knn_model.predict(X_test[i]),2) } ')\n",
        "print()  \n",
        "print(f'Accuracy of KNN Regression model is {round(acc, 2)}%')"
      ],
      "execution_count": 93,
      "outputs": [
        {
          "output_type": "stream",
          "text": [
            "Examples:\n",
            "Input : [94.09433113 77.15910509], Output : 1, Predicted Output: 1.0 \n",
            "Input : [90.44855097 87.50879176], Output : 1, Predicted Output: 1.0 \n",
            "Input : [55.48216114 35.57070347], Output : 0, Predicted Output: 0.0 \n",
            "Input : [74.49269242 84.84513685], Output : 1, Predicted Output: 1.0 \n",
            "Input : [89.84580671 45.35828361], Output : 1, Predicted Output: 0.6 \n",
            "Input : [83.48916274 48.3802858 ], Output : 1, Predicted Output: 0.6 \n",
            "Input : [42.26170081 87.10385094], Output : 1, Predicted Output: 0.8 \n",
            "Input : [99.31500881 68.77540947], Output : 1, Predicted Output: 1.0 \n",
            "Input : [55.34001756 64.93193801], Output : 1, Predicted Output: 0.6 \n",
            "Input : [74.775893  89.5298129], Output : 1, Predicted Output: 1.0 \n",
            "\n",
            "Accuracy of KNN Regression model is 100.0%\n"
          ],
          "name": "stdout"
        }
      ]
    },
    {
      "cell_type": "markdown",
      "metadata": {
        "id": "bdepAAb-yEzF"
      },
      "source": [
        "## K vs accuracy plot"
      ]
    },
    {
      "cell_type": "code",
      "metadata": {
        "colab": {
          "base_uri": "https://localhost:8080/",
          "height": 295
        },
        "id": "LYs0JHAmxhEK",
        "outputId": "ba897811-f9c0-453d-879a-9763a135f41e"
      },
      "source": [
        "y = []\n",
        "for k in range(1,11):\n",
        "  knn_model = KNNRegressor(X_train, Y_train, k)\n",
        "  acc = knn_model.getAccuracy(X_test, Y_test) \n",
        "  y.append(acc)\n",
        "\n",
        "import matplotlib.pyplot as plt\n",
        "x = [1, 2, 3, 4, 5, 6, 7, 8, 9, 10]\n",
        "plt.plot(x, y)\n",
        "plt.xlabel('K')\n",
        "plt.ylabel('Accuracy')\n",
        "plt.title('K vs Accuracy KNN plot')\n",
        "plt.show()\n"
      ],
      "execution_count": 94,
      "outputs": [
        {
          "output_type": "display_data",
          "data": {
            "image/png": "[encoded data removed]",
            "text/plain": [
              "<Figure size 432x288 with 1 Axes>"
            ]
          },
          "metadata": {
            "tags": [],
            "needs_background": "light"
          }
        }
      ]
    }
  ]
}